{
 "cells": [
  {
   "cell_type": "code",
   "execution_count": 1,
   "metadata": {},
   "outputs": [],
   "source": [
    "import tensorflow as tf\n",
    "import numpy as np \n",
    "import pandas as pd\n",
    "import matplotlib.pyplot as plt"
   ]
  },
  {
   "cell_type": "code",
   "execution_count": 2,
   "metadata": {},
   "outputs": [],
   "source": [
    "train_data = pd.read_csv('/home/kuba/wakacje/machine_lerning/train.csv')\n",
    "train_data = np.array(train_data)"
   ]
  },
  {
   "cell_type": "code",
   "execution_count": 3,
   "metadata": {},
   "outputs": [],
   "source": [
    "np.random.shuffle(train_data)\n",
    "x_train, y_train = np.array(train_data)[:36000,1:], np.array(train_data)[:36000,0]\n",
    "x_test, y_test = np.array(train_data)[36000:,1:], np.array(train_data)[36000:,0]"
   ]
  },
  {
   "cell_type": "code",
   "execution_count": 4,
   "metadata": {},
   "outputs": [
    {
     "data": {
      "text/plain": [
       "(36000, 784)"
      ]
     },
     "execution_count": 4,
     "metadata": {},
     "output_type": "execute_result"
    }
   ],
   "source": [
    "x_train.shape"
   ]
  },
  {
   "cell_type": "code",
   "execution_count": 5,
   "metadata": {},
   "outputs": [
    {
     "data": {
      "text/plain": [
       "<matplotlib.image.AxesImage at 0x7f3cc34669e8>"
      ]
     },
     "execution_count": 5,
     "metadata": {},
     "output_type": "execute_result"
    },
    {
     "data": {
      "image/png": "[encoded data removed]",
      "text/plain": [
       "<Figure size 432x288 with 1 Axes>"
      ]
     },
     "metadata": {
      "needs_background": "light"
     },
     "output_type": "display_data"
    }
   ],
   "source": [
    "im = x_train[0].reshape(28,28)\n",
    "plt.imshow(im)"
   ]
  },
  {
   "cell_type": "code",
   "execution_count": 6,
   "metadata": {},
   "outputs": [],
   "source": [
    "# let's normalize our data \n",
    "x_train = x_train / 255\n",
    "x_test  = x_test  / 255"
   ]
  },
  {
   "cell_type": "code",
   "execution_count": 18,
   "metadata": {},
   "outputs": [],
   "source": [
    "model = tf.keras.models.Sequential([tf.keras.layers.Flatten(),\n",
    "                                    tf.keras.layers.Dense(216, activation = tf.nn.relu),\n",
    "                                    tf.keras.layers.Dense(216, activation = tf.nn.relu),\n",
    "                                    tf.keras.layers.Dense(10,  activation = tf.nn.softmax)])\n"
   ]
  },
  {
   "cell_type": "code",
   "execution_count": 19,
   "metadata": {},
   "outputs": [],
   "source": [
    "model.compile(optimizer='adam',\n",
    "              loss='sparse_categorical_crossentropy',\n",
    "              metrics=['accuracy'])"
   ]
  },
  {
   "cell_type": "code",
   "execution_count": 20,
   "metadata": {},
   "outputs": [
    {
     "name": "stdout",
     "output_type": "stream",
     "text": [
      "Epoch 1/15\n",
      "36000/36000 [==============================] - 3s 75us/sample - loss: 0.2495 - acc: 0.9263\n",
      "Epoch 2/15\n",
      "36000/36000 [==============================] - 3s 73us/sample - loss: 0.1005 - acc: 0.9681\n",
      "Epoch 3/15\n",
      "36000/36000 [==============================] - 4s 101us/sample - loss: 0.0640 - acc: 0.9803\n",
      "Epoch 4/15\n",
      "36000/36000 [==============================] - 3s 75us/sample - loss: 0.0478 - acc: 0.9845\n",
      "Epoch 5/15\n",
      "36000/36000 [==============================] - 3s 74us/sample - loss: 0.0375 - acc: 0.9878\n",
      "Epoch 6/15\n",
      "36000/36000 [==============================] - 3s 75us/sample - loss: 0.0298 - acc: 0.9904\n",
      "Epoch 7/15\n",
      "36000/36000 [==============================] - 3s 74us/sample - loss: 0.0262 - acc: 0.9913\n",
      "Epoch 8/15\n",
      "36000/36000 [==============================] - 3s 75us/sample - loss: 0.0186 - acc: 0.9931\n",
      "Epoch 9/15\n",
      "36000/36000 [==============================] - 3s 76us/sample - loss: 0.0210 - acc: 0.9931\n",
      "Epoch 10/15\n",
      "36000/36000 [==============================] - 3s 75us/sample - loss: 0.0158 - acc: 0.9944\n",
      "Epoch 11/15\n",
      "36000/36000 [==============================] - 3s 79us/sample - loss: 0.0163 - acc: 0.9949\n",
      "Epoch 12/15\n",
      "36000/36000 [==============================] - 3s 80us/sample - loss: 0.0173 - acc: 0.9948\n",
      "Epoch 13/15\n",
      "36000/36000 [==============================] - 3s 81us/sample - loss: 0.0130 - acc: 0.9957\n",
      "Epoch 14/15\n",
      "36000/36000 [==============================] - 3s 79us/sample - loss: 0.0128 - acc: 0.9957\n",
      "Epoch 15/15\n",
      "36000/36000 [==============================] - 3s 77us/sample - loss: 0.0118 - acc: 0.9958\n"
     ]
    },
    {
     "data": {
      "text/plain": [
       "<tensorflow.python.keras.callbacks.History at 0x7f3ca067d5c0>"
      ]
     },
     "execution_count": 20,
     "metadata": {},
     "output_type": "execute_result"
    }
   ],
   "source": [
    "model.fit(x_train, y_train, epochs=15)"
   ]
  },
  {
   "cell_type": "code",
   "execution_count": 21,
   "metadata": {},
   "outputs": [
    {
     "name": "stdout",
     "output_type": "stream",
     "text": [
      "6000/6000 [==============================] - 0s 34us/sample - loss: 0.1366 - acc: 0.9765\n"
     ]
    },
    {
     "data": {
      "text/plain": [
       "[0.13664465933605244, 0.9765]"
      ]
     },
     "execution_count": 21,
     "metadata": {},
     "output_type": "execute_result"
    }
   ],
   "source": [
    "model.evaluate(x_test,y_test)"
   ]
  },
  {
   "cell_type": "code",
   "execution_count": 23,
   "metadata": {},
   "outputs": [],
   "source": [
    "kaggle_data = pd.read_csv('./Downloads/test.csv',header=None)"
   ]
  },
  {
   "cell_type": "code",
   "execution_count": 49,
   "metadata": {},
   "outputs": [
    {
     "data": {
      "text/plain": [
       "<matplotlib.image.AxesImage at 0x7f3ca009c400>"
      ]
     },
     "execution_count": 49,
     "metadata": {},
     "output_type": "execute_result"
    },
    {
     "data": {
      "image/png": "[encoded data removed]",
      "text/plain": [
       "<Figure size 432x288 with 1 Axes>"
      ]
     },
     "metadata": {
      "needs_background": "light"
     },
     "output_type": "display_data"
    }
   ],
   "source": [
    "kaggle_data_ = np.array(kaggle_data)\n",
    "kaggle_data_ = kaggle_data_[1:,:]\n",
    "kaggle_data_ = np.array(kaggle_data_, dtype = int)\n",
    "im = kaggle_data_[2].reshape(28,28)\n",
    "plt.imshow(im)"
   ]
  },
  {
   "cell_type": "code",
   "execution_count": 25,
   "metadata": {},
   "outputs": [
    {
     "data": {
      "text/plain": [
       "(784,)"
      ]
     },
     "execution_count": 25,
     "metadata": {},
     "output_type": "execute_result"
    }
   ],
   "source": [
    "X = kaggle_data_\n",
    "X = X / 255\n",
    "X[0].shape"
   ]
  },
  {
   "cell_type": "code",
   "execution_count": 50,
   "metadata": {},
   "outputs": [
    {
     "data": {
      "text/plain": [
       "(28000,)"
      ]
     },
     "execution_count": 50,
     "metadata": {},
     "output_type": "execute_result"
    }
   ],
   "source": [
    "out = model.predict(X)\n",
    "out = np.argmax(out, axis = 1)\n",
    "out.shape"
   ]
  },
  {
   "cell_type": "code",
   "execution_count": 64,
   "metadata": {},
   "outputs": [
    {
     "data": {
      "text/plain": [
       "'/home/kuba'"
      ]
     },
     "execution_count": 64,
     "metadata": {},
     "output_type": "execute_result"
    }
   ],
   "source": [
    "ImageId = np.arange(28000)\n",
    "ImageId += 1\n",
    "Out_file = pd.DataFrame({'ImageId': ImageId, 'Label': out})\n",
    "Out_file.to_csv('submission', index=False)"
   ]
  }
 ],
 "metadata": {
  "kernelspec": {
   "display_name": "venv",
   "language": "python",
   "name": "venv"
  },
  "language_info": {
   "codemirror_mode": {
    "name": "ipython",
    "version": 3
   },
   "file_extension": ".py",
   "mimetype": "text/x-python",
   "name": "python",
   "nbconvert_exporter": "python",
   "pygments_lexer": "ipython3",
   "version": "3.7.1"
  }
 },
 "nbformat": 4,
 "nbformat_minor": 2
}
