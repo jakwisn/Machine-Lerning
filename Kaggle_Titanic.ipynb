{
 "cells": [
  {
   "cell_type": "code",
   "execution_count": 2,
   "metadata": {},
   "outputs": [],
   "source": [
    "import pandas as pd\n",
    "import numpy as np \n",
    "import tensorflow as tf \n",
    "import matplotlib.pyplot as plt\n",
    "import copy\n",
    "import re"
   ]
  },
  {
   "cell_type": "code",
   "execution_count": 3,
   "metadata": {},
   "outputs": [
    {
     "data": {
      "text/html": [
       "<div>\n",
       "<style scoped>\n",
       "    .dataframe tbody tr th:only-of-type {\n",
       "        vertical-align: middle;\n",
       "    }\n",
       "\n",
       "    .dataframe tbody tr th {\n",
       "        vertical-align: top;\n",
       "    }\n",
       "\n",
       "    .dataframe thead th {\n",
       "        text-align: right;\n",
       "    }\n",
       "</style>\n",
       "<table border=\"1\" class=\"dataframe\">\n",
       "  <thead>\n",
       "    <tr style=\"text-align: right;\">\n",
       "      <th></th>\n",
       "      <th>PassengerId</th>\n",
       "      <th>Survived</th>\n",
       "      <th>Pclass</th>\n",
       "      <th>Name</th>\n",
       "      <th>Sex</th>\n",
       "      <th>Age</th>\n",
       "      <th>SibSp</th>\n",
       "      <th>Parch</th>\n",
       "      <th>Ticket</th>\n",
       "      <th>Fare</th>\n",
       "      <th>Cabin</th>\n",
       "      <th>Embarked</th>\n",
       "    </tr>\n",
       "  </thead>\n",
       "  <tbody>\n",
       "    <tr>\n",
       "      <th>0</th>\n",
       "      <td>1</td>\n",
       "      <td>0</td>\n",
       "      <td>3</td>\n",
       "      <td>Braund, Mr. Owen Harris</td>\n",
       "      <td>male</td>\n",
       "      <td>22.0</td>\n",
       "      <td>1</td>\n",
       "      <td>0</td>\n",
       "      <td>A/5 21171</td>\n",
       "      <td>7.2500</td>\n",
       "      <td>NaN</td>\n",
       "      <td>S</td>\n",
       "    </tr>\n",
       "    <tr>\n",
       "      <th>1</th>\n",
       "      <td>2</td>\n",
       "      <td>1</td>\n",
       "      <td>1</td>\n",
       "      <td>Cumings, Mrs. John Bradley (Florence Briggs Th...</td>\n",
       "      <td>female</td>\n",
       "      <td>38.0</td>\n",
       "      <td>1</td>\n",
       "      <td>0</td>\n",
       "      <td>PC 17599</td>\n",
       "      <td>71.2833</td>\n",
       "      <td>C85</td>\n",
       "      <td>C</td>\n",
       "    </tr>\n",
       "    <tr>\n",
       "      <th>2</th>\n",
       "      <td>3</td>\n",
       "      <td>1</td>\n",
       "      <td>3</td>\n",
       "      <td>Heikkinen, Miss. Laina</td>\n",
       "      <td>female</td>\n",
       "      <td>26.0</td>\n",
       "      <td>0</td>\n",
       "      <td>0</td>\n",
       "      <td>STON/O2. 3101282</td>\n",
       "      <td>7.9250</td>\n",
       "      <td>NaN</td>\n",
       "      <td>S</td>\n",
       "    </tr>\n",
       "    <tr>\n",
       "      <th>3</th>\n",
       "      <td>4</td>\n",
       "      <td>1</td>\n",
       "      <td>1</td>\n",
       "      <td>Futrelle, Mrs. Jacques Heath (Lily May Peel)</td>\n",
       "      <td>female</td>\n",
       "      <td>35.0</td>\n",
       "      <td>1</td>\n",
       "      <td>0</td>\n",
       "      <td>113803</td>\n",
       "      <td>53.1000</td>\n",
       "      <td>C123</td>\n",
       "      <td>S</td>\n",
       "    </tr>\n",
       "    <tr>\n",
       "      <th>4</th>\n",
       "      <td>5</td>\n",
       "      <td>0</td>\n",
       "      <td>3</td>\n",
       "      <td>Allen, Mr. William Henry</td>\n",
       "      <td>male</td>\n",
       "      <td>35.0</td>\n",
       "      <td>0</td>\n",
       "      <td>0</td>\n",
       "      <td>373450</td>\n",
       "      <td>8.0500</td>\n",
       "      <td>NaN</td>\n",
       "      <td>S</td>\n",
       "    </tr>\n",
       "  </tbody>\n",
       "</table>\n",
       "</div>"
      ],
      "text/plain": [
       "   PassengerId  Survived  Pclass  \\\n",
       "0            1         0       3   \n",
       "1            2         1       1   \n",
       "2            3         1       3   \n",
       "3            4         1       1   \n",
       "4            5         0       3   \n",
       "\n",
       "                                                Name     Sex   Age  SibSp  \\\n",
       "0                            Braund, Mr. Owen Harris    male  22.0      1   \n",
       "1  Cumings, Mrs. John Bradley (Florence Briggs Th...  female  38.0      1   \n",
       "2                             Heikkinen, Miss. Laina  female  26.0      0   \n",
       "3       Futrelle, Mrs. Jacques Heath (Lily May Peel)  female  35.0      1   \n",
       "4                           Allen, Mr. William Henry    male  35.0      0   \n",
       "\n",
       "   Parch            Ticket     Fare Cabin Embarked  \n",
       "0      0         A/5 21171   7.2500   NaN        S  \n",
       "1      0          PC 17599  71.2833   C85        C  \n",
       "2      0  STON/O2. 3101282   7.9250   NaN        S  \n",
       "3      0            113803  53.1000  C123        S  \n",
       "4      0            373450   8.0500   NaN        S  "
      ]
     },
     "execution_count": 3,
     "metadata": {},
     "output_type": "execute_result"
    }
   ],
   "source": [
    "data = pd.read_csv('/home/kuba/Downloads/train.csv')\n",
    "data.head()"
   ]
  },
  {
   "cell_type": "markdown",
   "metadata": {},
   "source": [
    "`Extracting titles to estimate age of NaN`"
   ]
  },
  {
   "cell_type": "code",
   "execution_count": 4,
   "metadata": {},
   "outputs": [],
   "source": [
    "def normalize(x): \n",
    "    \n",
    "    out = (x - x.mean())/x.std()\n",
    "    return out, x.mean(), x.std()"
   ]
  },
  {
   "cell_type": "code",
   "execution_count": 5,
   "metadata": {},
   "outputs": [],
   "source": [
    "def get_nice_data(data):\n",
    "    \n",
    "    x = copy.copy(data)\n",
    "    \n",
    "    # sex to numeric\n",
    "    x = np.array(x)\n",
    "    x[:,1] = x[:,1] == 'male'\n",
    "    # converting to binary\n",
    "    x[:,1] = x[:,1] * 1\n",
    "    \n",
    "    # normalize age\n",
    "    a = x[:,2]\n",
    "    \n",
    "    for i in range(a.size): \n",
    "        a[i] = np.nan_to_num(a[i])\n",
    "    \n",
    "    k = np.where(a != 0)\n",
    "    a[k] = normalize(a[k])[0]\n",
    "    a[a == 0] = normalize(a[k])[1]\n",
    "    \n",
    "    x[:,2] = a\n",
    "    \n",
    "    # normalize Fare \n",
    "    x[:,5] = np.array(x[:,5], dtype = float)\n",
    "    a = x[:,5]\n",
    "    for i in range(a.size): \n",
    "        a[i] = np.nan_to_num(a[i])\n",
    "    x[:,5] = normalize(a)[0]\n",
    "    \n",
    "    # normalize Cabin (0 if nan)\n",
    "    \n",
    "    a = x[:,6]\n",
    "    for i in range(a.size): \n",
    "        a[i] = np.nan_to_num(a[i])\n",
    "    \n",
    "    k = np.where(a != 0)\n",
    "    a[k] = 1 \n",
    "    a = np.array(a, dtype = int)\n",
    "    x[:,6] = a\n",
    "    \n",
    "    # to classes Embarked\n",
    "    \n",
    "    b = x[:,7]\n",
    "    for i in range(b.size): \n",
    "        b[i] = np.nan_to_num(b[i])\n",
    "    b[b == 'S'] = 1\n",
    "    b[b == 'C'] = 2\n",
    "    b[b == 'Q'] = 3\n",
    "\n",
    "    b = np.array(b,dtype = int)\n",
    "    x[:,7] = b\n",
    "    \n",
    "    return np.array(x, dtype = float)"
   ]
  },
  {
   "cell_type": "code",
   "execution_count": 6,
   "metadata": {},
   "outputs": [],
   "source": [
    "# getting only interesting ones\n",
    "\n",
    "train = data[['Pclass','Sex','Age','SibSp','Parch','Fare','Cabin','Embarked']]\n",
    "test = data[['Survived']]\n",
    "\n",
    "x_train = get_nice_data(train) \n",
    "x_test = np.array(test)\n",
    "x_test = x_test.flatten()"
   ]
  },
  {
   "cell_type": "code",
   "execution_count": 11,
   "metadata": {},
   "outputs": [],
   "source": [
    "model = tf.keras.models.Sequential([\n",
    "                                    tf.keras.layers.Dense(8, activation = tf.nn.relu),\n",
    "                                    tf.keras.layers.Dense(2,  activation = tf.nn.softmax)])"
   ]
  },
  {
   "cell_type": "code",
   "execution_count": 12,
   "metadata": {},
   "outputs": [],
   "source": [
    "model.compile(optimizer='adam',\n",
    "              loss='sparse_categorical_crossentropy',\n",
    "              metrics=['accuracy'])"
   ]
  },
  {
   "cell_type": "code",
   "execution_count": 19,
   "metadata": {},
   "outputs": [
    {
     "data": {
      "text/plain": [
       "<tensorflow.python.keras.callbacks.History at 0x7f9d587568d0>"
      ]
     },
     "execution_count": 19,
     "metadata": {},
     "output_type": "execute_result"
    }
   ],
   "source": [
    "model.fit(x_train, x_test, epochs=1000 , verbose=0) "
   ]
  },
  {
   "cell_type": "code",
   "execution_count": 20,
   "metadata": {},
   "outputs": [
    {
     "name": "stdout",
     "output_type": "stream",
     "text": [
      "891/891 [==============================] - 0s 81us/sample - loss: 0.3746 - acc: 0.8485\n"
     ]
    },
    {
     "data": {
      "text/plain": [
       "[0.37461829690553256, 0.8484849]"
      ]
     },
     "execution_count": 20,
     "metadata": {},
     "output_type": "execute_result"
    }
   ],
   "source": [
    "# not splitting data to get maximum training\n",
    "# testing on kaggle\n",
    "model.evaluate(x_train,x_test)"
   ]
  },
  {
   "cell_type": "code",
   "execution_count": 21,
   "metadata": {},
   "outputs": [],
   "source": [
    "kaggle = pd.read_csv('/home/kuba/wakacje/machine_lerning/test.csv')\n",
    "Id = np.array(kaggle['PassengerId'])"
   ]
  },
  {
   "cell_type": "code",
   "execution_count": 22,
   "metadata": {},
   "outputs": [],
   "source": [
    "topredict = kaggle[['Pclass','Sex','Age','SibSp','Parch','Fare','Cabin','Embarked']]\n",
    "topredict = get_nice_data(topredict)"
   ]
  },
  {
   "cell_type": "code",
   "execution_count": 24,
   "metadata": {},
   "outputs": [],
   "source": [
    "out = model.predict(topredict)\n",
    "out_ = np.argmax(out, axis = 1)\n",
    "Out_file = pd.DataFrame({'PassengerId': Id, 'Survived': out_})\n",
    "Out_file.to_csv('Titanic_Kaggle', index=False)"
   ]
  },
  {
   "cell_type": "markdown",
   "metadata": {},
   "source": [
    "`it got us 77% of accuracy on Kaggle - we are overfitting data, lets come up with more observations`"
   ]
  },
  {
   "cell_type": "code",
   "execution_count": 25,
   "metadata": {},
   "outputs": [
    {
     "data": {
      "text/plain": [
       "((1782, 8), (1782,))"
      ]
     },
     "execution_count": 25,
     "metadata": {},
     "output_type": "execute_result"
    }
   ],
   "source": [
    "# lets double our samples by adding some noise to data\n",
    "temp= copy.copy(x_train)\n",
    "\n",
    "# we will work on 2 and 5 th columns \n",
    "to_add = normalize(temp[:,2])[1]\n",
    "temp[:,2] += to_add \n",
    "\n",
    "to_add = normalize(temp[:,5])[1]\n",
    "temp[:,5] += to_add\n",
    "\n",
    "x2_train = np.vstack([x_train, temp])\n",
    "x2_test  = np.vstack([x_test, x_test]).flatten()\n",
    "\n",
    "\n",
    "x2_train.shape, x2_test.shape\n"
   ]
  },
  {
   "cell_type": "code",
   "execution_count": 26,
   "metadata": {},
   "outputs": [
    {
     "name": "stdout",
     "output_type": "stream",
     "text": [
      "Epoch 1/10\n",
      "1782/1782 [==============================] - 0s 232us/sample - loss: 0.3774 - acc: 0.8457\n",
      "Epoch 2/10\n",
      "1782/1782 [==============================] - 0s 151us/sample - loss: 0.3769 - acc: 0.8462\n",
      "Epoch 3/10\n",
      "1782/1782 [==============================] - 0s 44us/sample - loss: 0.3764 - acc: 0.8468\n",
      "Epoch 4/10\n",
      "1782/1782 [==============================] - 0s 43us/sample - loss: 0.3767 - acc: 0.8462\n",
      "Epoch 5/10\n",
      "1782/1782 [==============================] - 0s 44us/sample - loss: 0.3770 - acc: 0.8462\n",
      "Epoch 6/10\n",
      "1782/1782 [==============================] - 0s 53us/sample - loss: 0.3771 - acc: 0.8440\n",
      "Epoch 7/10\n",
      "1782/1782 [==============================] - 0s 46us/sample - loss: 0.3765 - acc: 0.8485\n",
      "Epoch 8/10\n",
      "1782/1782 [==============================] - 0s 48us/sample - loss: 0.3764 - acc: 0.8462\n",
      "Epoch 9/10\n",
      "1782/1782 [==============================] - 0s 53us/sample - loss: 0.3762 - acc: 0.8496\n",
      "Epoch 10/10\n",
      "1782/1782 [==============================] - 0s 51us/sample - loss: 0.3761 - acc: 0.8479\n"
     ]
    },
    {
     "data": {
      "text/plain": [
       "<tensorflow.python.keras.callbacks.History at 0x7f9d58756dd8>"
      ]
     },
     "execution_count": 26,
     "metadata": {},
     "output_type": "execute_result"
    }
   ],
   "source": [
    "model.fit(x2_train, x2_test, epochs=10)"
   ]
  },
  {
   "cell_type": "code",
   "execution_count": 27,
   "metadata": {},
   "outputs": [
    {
     "name": "stdout",
     "output_type": "stream",
     "text": [
      "891/891 [==============================] - 0s 160us/sample - loss: 0.3746 - acc: 0.8485\n"
     ]
    },
    {
     "data": {
      "text/plain": [
       "[0.3745767464474529, 0.8484849]"
      ]
     },
     "execution_count": 27,
     "metadata": {},
     "output_type": "execute_result"
    }
   ],
   "source": [
    "model.evaluate(x_train,x_test)"
   ]
  },
  {
   "cell_type": "code",
   "execution_count": 29,
   "metadata": {},
   "outputs": [],
   "source": [
    "out = model.predict(topredict)\n",
    "out_ = np.argmax(out, axis = 1)\n",
    "Out_file = pd.DataFrame({'PassengerId': Id, 'Survived': out_})\n",
    "Out_file.to_csv('Titanic_Kaggle', index=False)"
   ]
  },
  {
   "cell_type": "markdown",
   "metadata": {},
   "source": [
    "`We got 77% again, for now on i tried extracting data from titles of people and for NaNs in age I assigned average age per title, but that worsend my accuracy`  "
   ]
  }
 ],
 "metadata": {
  "kernelspec": {
   "display_name": "venv",
   "language": "python",
   "name": "venv"
  },
  "language_info": {
   "codemirror_mode": {
    "name": "ipython",
    "version": 3
   },
   "file_extension": ".py",
   "mimetype": "text/x-python",
   "name": "python",
   "nbconvert_exporter": "python",
   "pygments_lexer": "ipython3",
   "version": "3.7.1"
  }
 },
 "nbformat": 4,
 "nbformat_minor": 2
}
