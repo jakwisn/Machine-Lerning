{
 "cells": [
  {
   "cell_type": "code",
   "execution_count": 1,
   "metadata": {},
   "outputs": [],
   "source": [
    "import tensorflow as tf\n",
    "import numpy as np \n",
    "import pandas as pd\n",
    "import matplotlib.pyplot as plt"
   ]
  },
  {
   "cell_type": "code",
   "execution_count": 2,
   "metadata": {},
   "outputs": [],
   "source": [
    "train_data = pd.read_csv('/home/kuba/wakacje/machine_lerning/train_mnist.csv')\n",
    "train_data = np.array(train_data)"
   ]
  },
  {
   "cell_type": "code",
   "execution_count": 3,
   "metadata": {},
   "outputs": [],
   "source": [
    "np.random.shuffle(train_data)\n",
    "x_train, y_train = np.array(train_data)[:36000,1:], np.array(train_data)[:36000,0]\n",
    "x_test, y_test = np.array(train_data)[36000:,1:], np.array(train_data)[36000:,0]"
   ]
  },
  {
   "cell_type": "code",
   "execution_count": 4,
   "metadata": {},
   "outputs": [
    {
     "data": {
      "text/plain": [
       "(36000, 784)"
      ]
     },
     "execution_count": 4,
     "metadata": {},
     "output_type": "execute_result"
    }
   ],
   "source": [
    "x_train.shape"
   ]
  },
  {
   "cell_type": "code",
   "execution_count": 5,
   "metadata": {},
   "outputs": [
    {
     "data": {
      "text/plain": [
       "<matplotlib.image.AxesImage at 0x7f9525161b00>"
      ]
     },
     "execution_count": 5,
     "metadata": {},
     "output_type": "execute_result"
    },
    {
     "data": {
      "image/png": "[encoded data removed]",
      "text/plain": [
       "<Figure size 432x288 with 1 Axes>"
      ]
     },
     "metadata": {
      "needs_background": "light"
     },
     "output_type": "display_data"
    }
   ],
   "source": [
    "im = x_train[0].reshape(28,28)\n",
    "plt.imshow(im)"
   ]
  },
  {
   "cell_type": "code",
   "execution_count": 6,
   "metadata": {},
   "outputs": [],
   "source": [
    "# let's normalize our data \n",
    "x_train = x_train / 255\n",
    "x_test  = x_test  / 255\n",
    "x_train = x_train.reshape(36000,28,28,1)\n",
    "x_test  = x_test.reshape(6000,28,28,1)"
   ]
  },
  {
   "cell_type": "code",
   "execution_count": 8,
   "metadata": {},
   "outputs": [],
   "source": [
    "model = tf.keras.models.Sequential([tf.keras.layers.Conv2D(32, (3,3), activation='relu', input_shape=(28, 28, 1)),\n",
    "                                    tf.keras.layers.MaxPooling2D(2, 2),\n",
    "                                    tf.keras.layers.Conv2D(32, (3,3), activation='relu', input_shape=(28, 28, 1)),\n",
    "                                    tf.keras.layers.MaxPooling2D(2, 2),\n",
    "                                    tf.keras.layers.Flatten(),\n",
    "                                    tf.keras.layers.Dense(800, activation='relu'),\n",
    "                                    tf.keras.layers.Dense(10, activation='softmax')])\n"
   ]
  },
  {
   "cell_type": "code",
   "execution_count": 9,
   "metadata": {},
   "outputs": [],
   "source": [
    "model.compile(optimizer='adam',\n",
    "              loss='sparse_categorical_crossentropy',\n",
    "              metrics=['accuracy'])"
   ]
  },
  {
   "cell_type": "code",
   "execution_count": 10,
   "metadata": {},
   "outputs": [
    {
     "name": "stdout",
     "output_type": "stream",
     "text": [
      "Model: \"sequential_1\"\n",
      "_________________________________________________________________\n",
      "Layer (type)                 Output Shape              Param #   \n",
      "=================================================================\n",
      "conv2d_2 (Conv2D)            (None, 26, 26, 32)        320       \n",
      "_________________________________________________________________\n",
      "max_pooling2d_2 (MaxPooling2 (None, 13, 13, 32)        0         \n",
      "_________________________________________________________________\n",
      "conv2d_3 (Conv2D)            (None, 11, 11, 32)        9248      \n",
      "_________________________________________________________________\n",
      "max_pooling2d_3 (MaxPooling2 (None, 5, 5, 32)          0         \n",
      "_________________________________________________________________\n",
      "flatten_1 (Flatten)          (None, 800)               0         \n",
      "_________________________________________________________________\n",
      "dense_2 (Dense)              (None, 800)               640800    \n",
      "_________________________________________________________________\n",
      "dense_3 (Dense)              (None, 10)                8010      \n",
      "=================================================================\n",
      "Total params: 658,378\n",
      "Trainable params: 658,378\n",
      "Non-trainable params: 0\n",
      "_________________________________________________________________\n"
     ]
    }
   ],
   "source": [
    "model.summary()"
   ]
  },
  {
   "cell_type": "code",
   "execution_count": 13,
   "metadata": {},
   "outputs": [
    {
     "name": "stdout",
     "output_type": "stream",
     "text": [
      "Epoch 1/20\n",
      "36000/36000 [==============================] - 15s 409us/sample - loss: 0.0149 - acc: 0.9952\n",
      "Epoch 2/20\n",
      "36000/36000 [==============================] - 15s 419us/sample - loss: 0.0125 - acc: 0.9961\n",
      "Epoch 3/20\n",
      "36000/36000 [==============================] - 15s 421us/sample - loss: 0.0101 - acc: 0.9969\n",
      "Epoch 4/20\n",
      "36000/36000 [==============================] - 15s 423us/sample - loss: 0.0095 - acc: 0.9968\n",
      "Epoch 5/20\n",
      "36000/36000 [==============================] - 16s 455us/sample - loss: 0.0090 - acc: 0.9973\n",
      "Epoch 6/20\n",
      "36000/36000 [==============================] - 16s 445us/sample - loss: 0.0071 - acc: 0.9977\n",
      "Epoch 7/20\n",
      "36000/36000 [==============================] - 16s 447us/sample - loss: 0.0043 - acc: 0.9986\n",
      "Epoch 8/20\n",
      "36000/36000 [==============================] - 16s 458us/sample - loss: 0.0075 - acc: 0.9975\n",
      "Epoch 9/20\n",
      "36000/36000 [==============================] - 19s 526us/sample - loss: 0.0053 - acc: 0.9981\n",
      "Epoch 10/20\n",
      "36000/36000 [==============================] - 14s 387us/sample - loss: 0.0044 - acc: 0.9986\n",
      "Epoch 11/20\n",
      "36000/36000 [==============================] - 17s 486us/sample - loss: 0.0050 - acc: 0.9988\n",
      "Epoch 12/20\n",
      "36000/36000 [==============================] - 18s 495us/sample - loss: 0.0049 - acc: 0.9985\n",
      "Epoch 13/20\n",
      "36000/36000 [==============================] - 15s 426us/sample - loss: 0.0035 - acc: 0.9989\n",
      "Epoch 14/20\n",
      "36000/36000 [==============================] - 15s 411us/sample - loss: 0.0032 - acc: 0.9991\n",
      "Epoch 15/20\n",
      "36000/36000 [==============================] - 15s 423us/sample - loss: 0.0046 - acc: 0.9985\n",
      "Epoch 16/20\n",
      "36000/36000 [==============================] - 16s 437us/sample - loss: 0.0044 - acc: 0.9989\n",
      "Epoch 17/20\n",
      "36000/36000 [==============================] - 16s 434us/sample - loss: 0.0036 - acc: 0.9989\n",
      "Epoch 18/20\n",
      "36000/36000 [==============================] - 16s 435us/sample - loss: 0.0046 - acc: 0.9986\n",
      "Epoch 19/20\n",
      "36000/36000 [==============================] - 16s 439us/sample - loss: 0.0036 - acc: 0.9988\n",
      "Epoch 20/20\n",
      "36000/36000 [==============================] - 16s 442us/sample - loss: 0.0025 - acc: 0.9992\n"
     ]
    },
    {
     "data": {
      "text/plain": [
       "<tensorflow.python.keras.callbacks.History at 0x7f9513d09e80>"
      ]
     },
     "execution_count": 13,
     "metadata": {},
     "output_type": "execute_result"
    }
   ],
   "source": [
    "model.fit(x_train, y_train, epochs=20)"
   ]
  },
  {
   "cell_type": "code",
   "execution_count": 14,
   "metadata": {},
   "outputs": [
    {
     "name": "stdout",
     "output_type": "stream",
     "text": [
      "6000/6000 [==============================] - 1s 128us/sample - loss: 0.0902 - acc: 0.9890\n"
     ]
    },
    {
     "data": {
      "text/plain": [
       "[0.09020353584386757, 0.989]"
      ]
     },
     "execution_count": 14,
     "metadata": {},
     "output_type": "execute_result"
    }
   ],
   "source": [
    "model.evaluate(x_test,y_test)"
   ]
  },
  {
   "cell_type": "code",
   "execution_count": 17,
   "metadata": {},
   "outputs": [],
   "source": [
    "kaggle_data = pd.read_csv('/home/kuba/wakacje/machine_lerning/test_mnist.csv',header=None)"
   ]
  },
  {
   "cell_type": "code",
   "execution_count": 18,
   "metadata": {},
   "outputs": [
    {
     "data": {
      "text/plain": [
       "<matplotlib.image.AxesImage at 0x7f94e4f69d30>"
      ]
     },
     "execution_count": 18,
     "metadata": {},
     "output_type": "execute_result"
    },
    {
     "data": {
      "image/png": "[encoded data removed]",
      "text/plain": [
       "<Figure size 432x288 with 1 Axes>"
      ]
     },
     "metadata": {
      "needs_background": "light"
     },
     "output_type": "display_data"
    }
   ],
   "source": [
    "kaggle_data_ = np.array(kaggle_data)\n",
    "kaggle_data_ = kaggle_data_[1:,:]\n",
    "kaggle_data_ = np.array(kaggle_data_, dtype = int)\n",
    "im = kaggle_data_[2].reshape(28,28)\n",
    "plt.imshow(im)"
   ]
  },
  {
   "cell_type": "code",
   "execution_count": 21,
   "metadata": {},
   "outputs": [],
   "source": [
    "X = kaggle_data_\n",
    "X = X / 255\n",
    "X = X.reshape(28000,28,28,1)"
   ]
  },
  {
   "cell_type": "code",
   "execution_count": 22,
   "metadata": {},
   "outputs": [
    {
     "data": {
      "text/plain": [
       "(28000,)"
      ]
     },
     "execution_count": 22,
     "metadata": {},
     "output_type": "execute_result"
    }
   ],
   "source": [
    "out = model.predict(X)\n",
    "out = np.argmax(out, axis = 1)\n",
    "out.shape"
   ]
  },
  {
   "cell_type": "code",
   "execution_count": 23,
   "metadata": {},
   "outputs": [],
   "source": [
    "ImageId = np.arange(28000)\n",
    "ImageId += 1\n",
    "Out_file = pd.DataFrame({'ImageId': ImageId, 'Label': out})\n",
    "Out_file.to_csv('Mnist_kaggle', index=False)"
   ]
  },
  {
   "cell_type": "markdown",
   "metadata": {},
   "source": [
    "`Got us 98.8 % on kaggle` "
   ]
  },
  {
   "cell_type": "code",
   "execution_count": null,
   "metadata": {},
   "outputs": [],
   "source": []
  }
 ],
 "metadata": {
  "kernelspec": {
   "display_name": "venv",
   "language": "python",
   "name": "venv"
  },
  "language_info": {
   "codemirror_mode": {
    "name": "ipython",
    "version": 3
   },
   "file_extension": ".py",
   "mimetype": "text/x-python",
   "name": "python",
   "nbconvert_exporter": "python",
   "pygments_lexer": "ipython3",
   "version": "3.7.1"
  }
 },
 "nbformat": 4,
 "nbformat_minor": 2
}
