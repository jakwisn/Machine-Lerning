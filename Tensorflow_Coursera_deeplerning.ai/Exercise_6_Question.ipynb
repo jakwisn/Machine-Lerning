{
  "nbformat": 4,
  "nbformat_minor": 0,
  "metadata": {
    "colab": {
      "name": "Exercise 6 - Question.ipynb",
      "version": "0.3.2",
      "provenance": [],
      "collapsed_sections": []
    },
    "kernelspec": {
      "name": "python3",
      "display_name": "Python 3"
    },
    "accelerator": "GPU"
  },
  "cells": [
    {
      "cell_type": "code",
      "metadata": {
        "id": "dn-6c02VmqiN",
        "colab_type": "code",
        "colab": {}
      },
      "source": [
        "# In this exercise you will train a CNN on the FULL Cats-v-dogs dataset\n",
        "# This will require you doing a lot of data preprocessing because\n",
        "# the dataset isn't split into training and validation for you\n",
        "# This code block has all the required inputs\n",
        "import os\n",
        "import zipfile\n",
        "import random\n",
        "import tensorflow as tf\n",
        "from tensorflow.keras.layers import Conv2D, Flatten, Dense, MaxPooling2D\n",
        "from tensorflow.keras.optimizers import RMSprop\n",
        "from tensorflow.keras.preprocessing.image import ImageDataGenerator\n",
        "from shutil import copyfile"
      ],
      "execution_count": 0,
      "outputs": []
    },
    {
      "cell_type": "code",
      "metadata": {
        "id": "3sd9dQWa23aj",
        "colab_type": "code",
        "colab": {
          "base_uri": "https://localhost:8080/",
          "height": 226
        },
        "outputId": "a72e21ce-f618-402f-ab8c-99dce7df6ee2"
      },
      "source": [
        "# This code block downloads the full Cats-v-Dogs dataset and stores it as \n",
        "# cats-and-dogs.zip. It then unzips it to /tmp\n",
        "# which will create a tmp/PetImages directory containing subdirectories\n",
        "# called 'Cat' and 'Dog' (that's how the original researchers structured it)\n",
        "# If the URL doesn't work, \n",
        "# .   visit https://www.microsoft.com/en-us/download/confirmation.aspx?id=54765\n",
        "# And right click on the 'Download Manually' link to get a new URL\n",
        "\n",
        "!wget --no-check-certificate \\\n",
        "    \"https://download.microsoft.com/download/3/E/1/3E1C3F21-ECDB-4869-8368-6DEBA77B919F/kagglecatsanddogs_3367a.zip\" \\\n",
        "    -O \"/tmp/cats-and-dogs.zip\"\n",
        "\n",
        "local_zip = '/tmp/cats-and-dogs.zip'\n",
        "zip_ref = zipfile.ZipFile(local_zip, 'r')\n",
        "zip_ref.extractall('/tmp')\n",
        "zip_ref.close()\n"
      ],
      "execution_count": 2,
      "outputs": [
        {
          "output_type": "stream",
          "text": [
            "--2019-09-02 09:02:18--  https://download.microsoft.com/download/3/E/1/3E1C3F21-ECDB-4869-8368-6DEBA77B919F/kagglecatsanddogs_3367a.zip\n",
            "Resolving download.microsoft.com (download.microsoft.com)... 23.45.132.230, 2600:1407:2800:384::e59, 2600:1407:2800:380::e59\n",
            "Connecting to download.microsoft.com (download.microsoft.com)|23.45.132.230|:443... connected.\n",
            "HTTP request sent, awaiting response... 200 OK\n",
            "Length: 824894548 (787M) [application/octet-stream]\n",
            "Saving to: ‘/tmp/cats-and-dogs.zip’\n",
            "\n",
            "/tmp/cats-and-dogs. 100%[===================>] 786.68M  76.3MB/s    in 12s     \n",
            "\n",
            "2019-09-02 09:02:30 (67.4 MB/s) - ‘/tmp/cats-and-dogs.zip’ saved [824894548/824894548]\n",
            "\n"
          ],
          "name": "stdout"
        }
      ]
    },
    {
      "cell_type": "code",
      "metadata": {
        "id": "gi3yD62a6X3S",
        "colab_type": "code",
        "colab": {
          "base_uri": "https://localhost:8080/",
          "height": 55
        },
        "outputId": "22741401-3e97-4a19-bb02-3d7161e7a48c"
      },
      "source": [
        "print(len(os.listdir('/tmp/PetImages/Cat/')))\n",
        "print(len(os.listdir('/tmp/PetImages/Dog/')))\n",
        "\n",
        "# Expected Output:\n",
        "# 12501\n",
        "# 12501"
      ],
      "execution_count": 3,
      "outputs": [
        {
          "output_type": "stream",
          "text": [
            "12501\n",
            "12501\n"
          ],
          "name": "stdout"
        }
      ]
    },
    {
      "cell_type": "code",
      "metadata": {
        "id": "F-QkLjxpmyK2",
        "colab_type": "code",
        "colab": {}
      },
      "source": [
        "# Use os.mkdir to create your directories\n",
        "# You will need a directory for cats-v-dogs, and subdirectories for training\n",
        "# and testing. These in turn will need subdirectories for 'cats' and 'dogs'\n",
        "try:\n",
        "    #YOUR CODE GOES HERE\n",
        "    os.mkdir('/tmp/cats-v-dogs')\n",
        "    os.mkdir('/tmp/cats-v-dogs/training')\n",
        "    os.mkdir('/tmp/cats-v-dogs/testing')\n",
        "    os.mkdir('/tmp/cats-v-dogs/training/cats')\n",
        "    os.mkdir('/tmp/cats-v-dogs/training/dogs')\n",
        "    os.mkdir('/tmp/cats-v-dogs/testing/cats')\n",
        "    os.mkdir('/tmp/cats-v-dogs/testing/dogs')\n",
        "    \n",
        "except OSError:\n",
        "    pass"
      ],
      "execution_count": 0,
      "outputs": []
    },
    {
      "cell_type": "code",
      "metadata": {
        "id": "zvSODo0f9LaU",
        "colab_type": "code",
        "colab": {
          "base_uri": "https://localhost:8080/",
          "height": 55
        },
        "outputId": "542e28f8-6547-4847-c66d-2186e70c94a0"
      },
      "source": [
        "# Write a python function called split_data which takes\n",
        "# a SOURCE directory containing the files\n",
        "# a TRAINING directory that a portion of the files will be copied to\n",
        "# a TESTING directory that a portion of the files will be copie to\n",
        "# a SPLIT SIZE to determine the portion\n",
        "# The files should also be randomized, so that the training set is a random\n",
        "# X% of the files, and the test set is the remaining files\n",
        "# SO, for example, if SOURCE is PetImages/Cat, and SPLIT SIZE is .9\n",
        "# Then 90% of the images in PetImages/Cat will be copied to the TRAINING dir\n",
        "# and 10% of the images will be copied to the TESTING dir\n",
        "# Also -- All images should be checked, and if they have a zero file length,\n",
        "# they will not be copied over\n",
        "#\n",
        "# os.listdir(DIRECTORY) gives you a listing of the contents of that directory\n",
        "# os.path.getsize(PATH) gives you the size of the file\n",
        "# copyfile(source, destination) copies a file from source to destination\n",
        "# random.sample(list, len(list)) shuffles a list\n",
        "def split_data(SOURCE, TRAINING, TESTING, SPLIT_SIZE):\n",
        "# YOUR CODE STARTS HERE\n",
        "    pics = os.listdir(SOURCE)\n",
        "      \n",
        "    # those with len 0 are out\n",
        "    for pic in pics: \n",
        "        if os.path.getsize(SOURCE + pic) == 0 : \n",
        "            pics.remove(pic)\n",
        "            print('{0:<4s} is zero length, so ignoring'.format(pic))\n",
        "            \n",
        "    \n",
        "    # random permutation\n",
        "    random.sample(pics, len(pics))\n",
        "    \n",
        "    # train test split\n",
        "    end = int(len(pics) * SPLIT_SIZE)\n",
        "    train = pics[:end]\n",
        "    test = pics[end :]\n",
        "    \n",
        "    # copying images\n",
        "    for pic in train :\n",
        "        \n",
        "        picture_path = os.path.join(SOURCE , pic)\n",
        "        copyfile(picture_path, TRAINING + pic)\n",
        "    \n",
        "    for pic in test: \n",
        "        picture_path = os.path.join(SOURCE , pic)\n",
        "        copyfile(picture_path, TESTING + pic )\n",
        "\n",
        "# YOUR CODE ENDS HERE\n",
        "\n",
        "\n",
        "CAT_SOURCE_DIR = \"/tmp/PetImages/Cat/\"\n",
        "TRAINING_CATS_DIR = \"/tmp/cats-v-dogs/training/cats/\"\n",
        "TESTING_CATS_DIR = \"/tmp/cats-v-dogs/testing/cats/\"\n",
        "DOG_SOURCE_DIR = \"/tmp/PetImages/Dog/\"\n",
        "TRAINING_DOGS_DIR = \"/tmp/cats-v-dogs/training/dogs/\"\n",
        "TESTING_DOGS_DIR = \"/tmp/cats-v-dogs/testing/dogs/\"\n",
        "\n",
        "split_size = .9\n",
        "split_data(CAT_SOURCE_DIR, TRAINING_CATS_DIR, TESTING_CATS_DIR, split_size)\n",
        "split_data(DOG_SOURCE_DIR, TRAINING_DOGS_DIR, TESTING_DOGS_DIR, split_size)\n",
        "\n",
        "# Expected output\n",
        "# 666.jpg is zero length, so ignoring\n",
        "# 11702.jpg is zero length, so ignoring"
      ],
      "execution_count": 8,
      "outputs": [
        {
          "output_type": "stream",
          "text": [
            "666.jpg is zero length, so ignoring\n",
            "11702.jpg is zero length, so ignoring\n"
          ],
          "name": "stdout"
        }
      ]
    },
    {
      "cell_type": "code",
      "metadata": {
        "id": "luthalB76ufC",
        "colab_type": "code",
        "colab": {
          "base_uri": "https://localhost:8080/",
          "height": 93
        },
        "outputId": "6ec46048-8e6e-4cd6-814e-4f36a25f2f5c"
      },
      "source": [
        "print(len(os.listdir('/tmp/cats-v-dogs/training/cats/')))\n",
        "print(len(os.listdir('/tmp/cats-v-dogs/training/dogs/')))\n",
        "print(len(os.listdir('/tmp/cats-v-dogs/testing/cats/')))\n",
        "print(len(os.listdir('/tmp/cats-v-dogs/testing/dogs/')))\n",
        "\n",
        "# Expected output:\n",
        "# 11250\n",
        "# 11250\n",
        "# 1250\n",
        "# 1250"
      ],
      "execution_count": 9,
      "outputs": [
        {
          "output_type": "stream",
          "text": [
            "11250\n",
            "11250\n",
            "1250\n",
            "1250\n"
          ],
          "name": "stdout"
        }
      ]
    },
    {
      "cell_type": "code",
      "metadata": {
        "id": "-BQrav4anTmj",
        "colab_type": "code",
        "colab": {}
      },
      "source": [
        "# DEFINE A KERAS MODEL TO CLASSIFY CATS V DOGS\n",
        "# USE AT LEAST 3 CONVOLUTION LAYERS\n",
        "model = tf.keras.models.Sequential([\n",
        "# YOUR CODE HERE\n",
        "        Conv2D(32, (3,3), activation = 'relu' , input_shape = (150, 150,3)),\n",
        "        MaxPooling2D(2,2), \n",
        "        Conv2D(32, (3,3), activation = 'relu'),\n",
        "        MaxPooling2D(2,2),\n",
        "        Conv2D(64, (3,3), activation = 'relu'),\n",
        "        MaxPooling2D(2,2),\n",
        "        Conv2D(64, (3,3), activation = 'relu'),\n",
        "        MaxPooling2D(2,2),\n",
        "        Flatten(),\n",
        "        Dense(49, activation = 'relu'),\n",
        "        Dense(1, activation = 'sigmoid')\n",
        "        \n",
        "])\n",
        "\n",
        "model.compile(optimizer='adam', loss='binary_crossentropy', metrics=['acc'])"
      ],
      "execution_count": 0,
      "outputs": []
    },
    {
      "cell_type": "code",
      "metadata": {
        "id": "mlNjoJ5D61N6",
        "colab_type": "code",
        "colab": {
          "base_uri": "https://localhost:8080/",
          "height": 55
        },
        "outputId": "0fdcb4c0-fdaf-4c2e-ade3-286447f437fd"
      },
      "source": [
        "TRAINING_DIR = '/tmp/cats-v-dogs/training/'\n",
        "train_datagen = ImageDataGenerator( rescale= 1.0/255, \n",
        "                                    rotation_range=40,\n",
        "                                    width_shift_range=0.2,\n",
        "                                    height_shift_range=0.2,\n",
        "                                    shear_range=0.2,\n",
        "                                    zoom_range=0.2,\n",
        "                                    horizontal_flip=True,\n",
        "                                    fill_mode='nearest')\n",
        "train_generator = train_datagen.flow_from_directory(   TRAINING_DIR, \n",
        "                                                       batch_size = 100,\n",
        "                                                       class_mode = 'binary',\n",
        "                                                       target_size = (150,150))\n",
        "\n",
        "VALIDATION_DIR = '/tmp/cats-v-dogs/testing/'\n",
        "validation_datagen = ImageDataGenerator(rescale= 1.0/255,\n",
        "                                        rotation_range=40,\n",
        "                                        width_shift_range=0.2,\n",
        "                                        height_shift_range=0.2,\n",
        "                                        shear_range=0.2,\n",
        "                                        zoom_range=0.2,\n",
        "                                        horizontal_flip=True,\n",
        "                                        fill_mode='nearest')\n",
        "validation_generator = train_datagen.flow_from_directory(  VALIDATION_DIR, \n",
        "                                                           batch_size = 100,\n",
        "                                                           class_mode = 'binary',\n",
        "                                                           target_size = (150,150))\n",
        "\n",
        "\n",
        "\n",
        "# Expected Output:\n",
        "# Found 22498 images belonging to 2 classes.\n",
        "# Found 2500 images belonging to 2 classes."
      ],
      "execution_count": 22,
      "outputs": [
        {
          "output_type": "stream",
          "text": [
            "Found 22498 images belonging to 2 classes.\n",
            "Found 2500 images belonging to 2 classes.\n"
          ],
          "name": "stdout"
        }
      ]
    },
    {
      "cell_type": "code",
      "metadata": {
        "id": "IfdWsB_gql3V",
        "colab_type": "code",
        "colab": {}
      },
      "source": [
        ""
      ],
      "execution_count": 0,
      "outputs": []
    },
    {
      "cell_type": "code",
      "metadata": {
        "id": "KyS4n53w7DxC",
        "colab_type": "code",
        "colab": {
          "base_uri": "https://localhost:8080/",
          "height": 1000
        },
        "outputId": "9a61fd19-ba86-4b86-bc12-bea52ce5ec9a"
      },
      "source": [
        "\n",
        "\n",
        "history = model.fit_generator(train_generator,\n",
        "                              epochs=100,\n",
        "                              verbose=1,\n",
        "                              validation_data=validation_generator\n",
        "                              )\n",
        "\n",
        "# The expectation here is that the model will train, and that accuracy will be > 95% on both training and validation\n",
        "# i.e. acc:A1 and val_acc:A2 will be visible, and both A1 and A2 will be > .9"
      ],
      "execution_count": 24,
      "outputs": [
        {
          "output_type": "stream",
          "text": [
            "Epoch 1/100\n",
            " 15/225 [=>............................] - ETA: 2:53 - loss: 0.6327 - acc: 0.6307"
          ],
          "name": "stdout"
        },
        {
          "output_type": "stream",
          "text": [
            "/usr/local/lib/python3.6/dist-packages/PIL/TiffImagePlugin.py:725: UserWarning: Possibly corrupt EXIF data.  Expecting to read 80000 bytes but only got 0. Skipping tag 64640\n",
            "  \" Skipping tag %s\" % (size, len(data), tag))\n",
            "/usr/local/lib/python3.6/dist-packages/PIL/TiffImagePlugin.py:725: UserWarning: Possibly corrupt EXIF data.  Expecting to read 65536 bytes but only got 0. Skipping tag 3\n",
            "  \" Skipping tag %s\" % (size, len(data), tag))\n",
            "/usr/local/lib/python3.6/dist-packages/PIL/TiffImagePlugin.py:725: UserWarning: Possibly corrupt EXIF data.  Expecting to read 404094976 bytes but only got 0. Skipping tag 5\n",
            "  \" Skipping tag %s\" % (size, len(data), tag))\n",
            "/usr/local/lib/python3.6/dist-packages/PIL/TiffImagePlugin.py:725: UserWarning: Possibly corrupt EXIF data.  Expecting to read 404619264 bytes but only got 0. Skipping tag 5\n",
            "  \" Skipping tag %s\" % (size, len(data), tag))\n",
            "/usr/local/lib/python3.6/dist-packages/PIL/TiffImagePlugin.py:725: UserWarning: Possibly corrupt EXIF data.  Expecting to read 131072 bytes but only got 0. Skipping tag 3\n",
            "  \" Skipping tag %s\" % (size, len(data), tag))\n",
            "/usr/local/lib/python3.6/dist-packages/PIL/TiffImagePlugin.py:725: UserWarning: Possibly corrupt EXIF data.  Expecting to read 425459712 bytes but only got 0. Skipping tag 4\n",
            "  \" Skipping tag %s\" % (size, len(data), tag))\n",
            "/usr/local/lib/python3.6/dist-packages/PIL/TiffImagePlugin.py:725: UserWarning: Possibly corrupt EXIF data.  Expecting to read 1385474 bytes but only got 6833. Skipping tag 513\n",
            "  \" Skipping tag %s\" % (size, len(data), tag))\n",
            "/usr/local/lib/python3.6/dist-packages/PIL/TiffImagePlugin.py:725: UserWarning: Possibly corrupt EXIF data.  Expecting to read 3846701056 bytes but only got 0. Skipping tag 2\n",
            "  \" Skipping tag %s\" % (size, len(data), tag))\n",
            "/usr/local/lib/python3.6/dist-packages/PIL/TiffImagePlugin.py:725: UserWarning: Possibly corrupt EXIF data.  Expecting to read 3300917248 bytes but only got 0. Skipping tag 7\n",
            "  \" Skipping tag %s\" % (size, len(data), tag))\n",
            "/usr/local/lib/python3.6/dist-packages/PIL/TiffImagePlugin.py:725: UserWarning: Possibly corrupt EXIF data.  Expecting to read 196867 bytes but only got 6833. Skipping tag 0\n",
            "  \" Skipping tag %s\" % (size, len(data), tag))\n",
            "/usr/local/lib/python3.6/dist-packages/PIL/TiffImagePlugin.py:742: UserWarning: Corrupt EXIF data.  Expecting to read 12 bytes but only got 8. \n",
            "  warnings.warn(str(msg))\n"
          ],
          "name": "stderr"
        },
        {
          "output_type": "stream",
          "text": [
            " 17/225 [=>............................] - ETA: 2:51 - loss: 0.6311 - acc: 0.6365"
          ],
          "name": "stdout"
        },
        {
          "output_type": "stream",
          "text": [
            "/usr/local/lib/python3.6/dist-packages/PIL/TiffImagePlugin.py:725: UserWarning: Possibly corrupt EXIF data.  Expecting to read 18350080 bytes but only got 0. Skipping tag 0\n",
            "  \" Skipping tag %s\" % (size, len(data), tag))\n",
            "/usr/local/lib/python3.6/dist-packages/PIL/TiffImagePlugin.py:742: UserWarning: Corrupt EXIF data.  Expecting to read 12 bytes but only got 6. \n",
            "  warnings.warn(str(msg))\n"
          ],
          "name": "stderr"
        },
        {
          "output_type": "stream",
          "text": [
            " 99/225 [============>.................] - ETA: 1:44 - loss: 0.6176 - acc: 0.6598"
          ],
          "name": "stdout"
        },
        {
          "output_type": "stream",
          "text": [
            "/usr/local/lib/python3.6/dist-packages/PIL/TiffImagePlugin.py:725: UserWarning: Possibly corrupt EXIF data.  Expecting to read 6553600 bytes but only got 0. Skipping tag 49\n",
            "  \" Skipping tag %s\" % (size, len(data), tag))\n",
            "/usr/local/lib/python3.6/dist-packages/PIL/TiffImagePlugin.py:725: UserWarning: Possibly corrupt EXIF data.  Expecting to read 1050744 bytes but only got 4951. Skipping tag 51\n",
            "  \" Skipping tag %s\" % (size, len(data), tag))\n",
            "/usr/local/lib/python3.6/dist-packages/PIL/TiffImagePlugin.py:725: UserWarning: Possibly corrupt EXIF data.  Expecting to read 293339136 bytes but only got 0. Skipping tag 5\n",
            "  \" Skipping tag %s\" % (size, len(data), tag))\n",
            "/usr/local/lib/python3.6/dist-packages/PIL/TiffImagePlugin.py:725: UserWarning: Possibly corrupt EXIF data.  Expecting to read 293863424 bytes but only got 0. Skipping tag 5\n",
            "  \" Skipping tag %s\" % (size, len(data), tag))\n",
            "/usr/local/lib/python3.6/dist-packages/PIL/TiffImagePlugin.py:725: UserWarning: Possibly corrupt EXIF data.  Expecting to read 3368026112 bytes but only got 0. Skipping tag 7\n",
            "  \" Skipping tag %s\" % (size, len(data), tag))\n",
            "/usr/local/lib/python3.6/dist-packages/PIL/TiffImagePlugin.py:725: UserWarning: Possibly corrupt EXIF data.  Expecting to read 134479872 bytes but only got 0. Skipping tag 7\n",
            "  \" Skipping tag %s\" % (size, len(data), tag))\n",
            "/usr/local/lib/python3.6/dist-packages/PIL/TiffImagePlugin.py:725: UserWarning: Possibly corrupt EXIF data.  Expecting to read 295698432 bytes but only got 0. Skipping tag 10\n",
            "  \" Skipping tag %s\" % (size, len(data), tag))\n",
            "/usr/local/lib/python3.6/dist-packages/PIL/TiffImagePlugin.py:725: UserWarning: Possibly corrupt EXIF data.  Expecting to read 296222720 bytes but only got 0. Skipping tag 5\n",
            "  \" Skipping tag %s\" % (size, len(data), tag))\n",
            "/usr/local/lib/python3.6/dist-packages/PIL/TiffImagePlugin.py:725: UserWarning: Possibly corrupt EXIF data.  Expecting to read 14745600 bytes but only got 0. Skipping tag 4\n",
            "  \" Skipping tag %s\" % (size, len(data), tag))\n",
            "/usr/local/lib/python3.6/dist-packages/PIL/TiffImagePlugin.py:725: UserWarning: Possibly corrupt EXIF data.  Expecting to read 25624576 bytes but only got 0. Skipping tag 4\n",
            "  \" Skipping tag %s\" % (size, len(data), tag))\n",
            "/usr/local/lib/python3.6/dist-packages/PIL/TiffImagePlugin.py:725: UserWarning: Possibly corrupt EXIF data.  Expecting to read 317718528 bytes but only got 4956. Skipping tag 4\n",
            "  \" Skipping tag %s\" % (size, len(data), tag))\n",
            "/usr/local/lib/python3.6/dist-packages/PIL/TiffImagePlugin.py:725: UserWarning: Possibly corrupt EXIF data.  Expecting to read 131073 bytes but only got 4952. Skipping tag 0\n",
            "  \" Skipping tag %s\" % (size, len(data), tag))\n",
            "/usr/local/lib/python3.6/dist-packages/PIL/TiffImagePlugin.py:725: UserWarning: Possibly corrupt EXIF data.  Expecting to read 393216 bytes but only got 0. Skipping tag 3\n",
            "  \" Skipping tag %s\" % (size, len(data), tag))\n",
            "/usr/local/lib/python3.6/dist-packages/PIL/TiffImagePlugin.py:725: UserWarning: Possibly corrupt EXIF data.  Expecting to read 287178752 bytes but only got 0. Skipping tag 5\n",
            "  \" Skipping tag %s\" % (size, len(data), tag))\n",
            "/usr/local/lib/python3.6/dist-packages/PIL/TiffImagePlugin.py:725: UserWarning: Possibly corrupt EXIF data.  Expecting to read 287703040 bytes but only got 0. Skipping tag 5\n",
            "  \" Skipping tag %s\" % (size, len(data), tag))\n",
            "/usr/local/lib/python3.6/dist-packages/PIL/TiffImagePlugin.py:725: UserWarning: Possibly corrupt EXIF data.  Expecting to read 524288 bytes but only got 0. Skipping tag 4\n",
            "  \" Skipping tag %s\" % (size, len(data), tag))\n",
            "/usr/local/lib/python3.6/dist-packages/PIL/TiffImagePlugin.py:725: UserWarning: Possibly corrupt EXIF data.  Expecting to read 286654464 bytes but only got 4956. Skipping tag 4\n",
            "  \" Skipping tag %s\" % (size, len(data), tag))\n",
            "/usr/local/lib/python3.6/dist-packages/PIL/TiffImagePlugin.py:742: UserWarning: Corrupt EXIF data.  Expecting to read 12 bytes but only got 2. \n",
            "  warnings.warn(str(msg))\n"
          ],
          "name": "stderr"
        },
        {
          "output_type": "stream",
          "text": [
            "107/225 [=============>................] - ETA: 1:37 - loss: 0.6160 - acc: 0.6593"
          ],
          "name": "stdout"
        },
        {
          "output_type": "stream",
          "text": [
            "/usr/local/lib/python3.6/dist-packages/PIL/TiffImagePlugin.py:725: UserWarning: Possibly corrupt EXIF data.  Expecting to read 307363840 bytes but only got 0. Skipping tag 5\n",
            "  \" Skipping tag %s\" % (size, len(data), tag))\n",
            "/usr/local/lib/python3.6/dist-packages/PIL/TiffImagePlugin.py:725: UserWarning: Possibly corrupt EXIF data.  Expecting to read 307888128 bytes but only got 0. Skipping tag 5\n",
            "  \" Skipping tag %s\" % (size, len(data), tag))\n",
            "/usr/local/lib/python3.6/dist-packages/PIL/TiffImagePlugin.py:725: UserWarning: Possibly corrupt EXIF data.  Expecting to read 328728576 bytes but only got 0. Skipping tag 4\n",
            "  \" Skipping tag %s\" % (size, len(data), tag))\n",
            "/usr/local/lib/python3.6/dist-packages/PIL/TiffImagePlugin.py:725: UserWarning: Possibly corrupt EXIF data.  Expecting to read 1385474 bytes but only got 5357. Skipping tag 513\n",
            "  \" Skipping tag %s\" % (size, len(data), tag))\n",
            "/usr/local/lib/python3.6/dist-packages/PIL/TiffImagePlugin.py:725: UserWarning: Possibly corrupt EXIF data.  Expecting to read 196867 bytes but only got 5357. Skipping tag 0\n",
            "  \" Skipping tag %s\" % (size, len(data), tag))\n"
          ],
          "name": "stderr"
        },
        {
          "output_type": "stream",
          "text": [
            "126/225 [===============>..............] - ETA: 1:22 - loss: 0.6146 - acc: 0.6613"
          ],
          "name": "stdout"
        },
        {
          "output_type": "stream",
          "text": [
            "/usr/local/lib/python3.6/dist-packages/PIL/TiffImagePlugin.py:725: UserWarning: Possibly corrupt EXIF data.  Expecting to read 209715200 bytes but only got 0. Skipping tag 48\n",
            "  \" Skipping tag %s\" % (size, len(data), tag))\n",
            "/usr/local/lib/python3.6/dist-packages/PIL/TiffImagePlugin.py:725: UserWarning: Possibly corrupt EXIF data.  Expecting to read 52428800 bytes but only got 0. Skipping tag 0\n",
            "  \" Skipping tag %s\" % (size, len(data), tag))\n",
            "/usr/local/lib/python3.6/dist-packages/PIL/TiffImagePlugin.py:725: UserWarning: Possibly corrupt EXIF data.  Expecting to read 6468665344 bytes but only got 0. Skipping tag 0\n",
            "  \" Skipping tag %s\" % (size, len(data), tag))\n",
            "/usr/local/lib/python3.6/dist-packages/PIL/TiffImagePlugin.py:725: UserWarning: Possibly corrupt EXIF data.  Expecting to read 1050744 bytes but only got 7027. Skipping tag 48\n",
            "  \" Skipping tag %s\" % (size, len(data), tag))\n",
            "/usr/local/lib/python3.6/dist-packages/PIL/TiffImagePlugin.py:725: UserWarning: Possibly corrupt EXIF data.  Expecting to read 422313984 bytes but only got 0. Skipping tag 5\n",
            "  \" Skipping tag %s\" % (size, len(data), tag))\n",
            "/usr/local/lib/python3.6/dist-packages/PIL/TiffImagePlugin.py:725: UserWarning: Possibly corrupt EXIF data.  Expecting to read 422838272 bytes but only got 0. Skipping tag 5\n",
            "  \" Skipping tag %s\" % (size, len(data), tag))\n",
            "/usr/local/lib/python3.6/dist-packages/PIL/TiffImagePlugin.py:725: UserWarning: Possibly corrupt EXIF data.  Expecting to read 428867584 bytes but only got 0. Skipping tag 10\n",
            "  \" Skipping tag %s\" % (size, len(data), tag))\n",
            "/usr/local/lib/python3.6/dist-packages/PIL/TiffImagePlugin.py:725: UserWarning: Possibly corrupt EXIF data.  Expecting to read 429391872 bytes but only got 0. Skipping tag 5\n",
            "  \" Skipping tag %s\" % (size, len(data), tag))\n",
            "/usr/local/lib/python3.6/dist-packages/PIL/TiffImagePlugin.py:725: UserWarning: Possibly corrupt EXIF data.  Expecting to read 2031616 bytes but only got 0. Skipping tag 3\n",
            "  \" Skipping tag %s\" % (size, len(data), tag))\n",
            "/usr/local/lib/python3.6/dist-packages/PIL/TiffImagePlugin.py:725: UserWarning: Possibly corrupt EXIF data.  Expecting to read 429916160 bytes but only got 0. Skipping tag 5\n",
            "  \" Skipping tag %s\" % (size, len(data), tag))\n",
            "/usr/local/lib/python3.6/dist-packages/PIL/TiffImagePlugin.py:725: UserWarning: Possibly corrupt EXIF data.  Expecting to read 21299200 bytes but only got 0. Skipping tag 4\n",
            "  \" Skipping tag %s\" % (size, len(data), tag))\n",
            "/usr/local/lib/python3.6/dist-packages/PIL/TiffImagePlugin.py:725: UserWarning: Possibly corrupt EXIF data.  Expecting to read 24313856 bytes but only got 0. Skipping tag 4\n",
            "  \" Skipping tag %s\" % (size, len(data), tag))\n",
            "/usr/local/lib/python3.6/dist-packages/PIL/TiffImagePlugin.py:725: UserWarning: Possibly corrupt EXIF data.  Expecting to read 453771264 bytes but only got 7032. Skipping tag 4\n",
            "  \" Skipping tag %s\" % (size, len(data), tag))\n",
            "/usr/local/lib/python3.6/dist-packages/PIL/TiffImagePlugin.py:725: UserWarning: Possibly corrupt EXIF data.  Expecting to read 131073 bytes but only got 7028. Skipping tag 0\n",
            "  \" Skipping tag %s\" % (size, len(data), tag))\n",
            "/usr/local/lib/python3.6/dist-packages/PIL/TiffImagePlugin.py:725: UserWarning: Possibly corrupt EXIF data.  Expecting to read 416415744 bytes but only got 0. Skipping tag 5\n",
            "  \" Skipping tag %s\" % (size, len(data), tag))\n",
            "/usr/local/lib/python3.6/dist-packages/PIL/TiffImagePlugin.py:725: UserWarning: Possibly corrupt EXIF data.  Expecting to read 416940032 bytes but only got 0. Skipping tag 5\n",
            "  \" Skipping tag %s\" % (size, len(data), tag))\n",
            "/usr/local/lib/python3.6/dist-packages/PIL/TiffImagePlugin.py:725: UserWarning: Possibly corrupt EXIF data.  Expecting to read 415825920 bytes but only got 7032. Skipping tag 4\n",
            "  \" Skipping tag %s\" % (size, len(data), tag))\n"
          ],
          "name": "stderr"
        },
        {
          "output_type": "stream",
          "text": [
            "179/225 [======================>.......] - ETA: 38s - loss: 0.6097 - acc: 0.6633"
          ],
          "name": "stdout"
        },
        {
          "output_type": "stream",
          "text": [
            "/usr/local/lib/python3.6/dist-packages/PIL/TiffImagePlugin.py:725: UserWarning: Possibly corrupt EXIF data.  Expecting to read 32 bytes but only got 0. Skipping tag 270\n",
            "  \" Skipping tag %s\" % (size, len(data), tag))\n",
            "/usr/local/lib/python3.6/dist-packages/PIL/TiffImagePlugin.py:725: UserWarning: Possibly corrupt EXIF data.  Expecting to read 5 bytes but only got 0. Skipping tag 271\n",
            "  \" Skipping tag %s\" % (size, len(data), tag))\n",
            "/usr/local/lib/python3.6/dist-packages/PIL/TiffImagePlugin.py:725: UserWarning: Possibly corrupt EXIF data.  Expecting to read 8 bytes but only got 0. Skipping tag 272\n",
            "  \" Skipping tag %s\" % (size, len(data), tag))\n",
            "/usr/local/lib/python3.6/dist-packages/PIL/TiffImagePlugin.py:725: UserWarning: Possibly corrupt EXIF data.  Expecting to read 8 bytes but only got 0. Skipping tag 282\n",
            "  \" Skipping tag %s\" % (size, len(data), tag))\n",
            "/usr/local/lib/python3.6/dist-packages/PIL/TiffImagePlugin.py:725: UserWarning: Possibly corrupt EXIF data.  Expecting to read 8 bytes but only got 0. Skipping tag 283\n",
            "  \" Skipping tag %s\" % (size, len(data), tag))\n",
            "/usr/local/lib/python3.6/dist-packages/PIL/TiffImagePlugin.py:725: UserWarning: Possibly corrupt EXIF data.  Expecting to read 20 bytes but only got 0. Skipping tag 306\n",
            "  \" Skipping tag %s\" % (size, len(data), tag))\n",
            "/usr/local/lib/python3.6/dist-packages/PIL/TiffImagePlugin.py:725: UserWarning: Possibly corrupt EXIF data.  Expecting to read 48 bytes but only got 0. Skipping tag 532\n",
            "  \" Skipping tag %s\" % (size, len(data), tag))\n",
            "/usr/local/lib/python3.6/dist-packages/PIL/TiffImagePlugin.py:742: UserWarning: Corrupt EXIF data.  Expecting to read 2 bytes but only got 0. \n",
            "  warnings.warn(str(msg))\n"
          ],
          "name": "stderr"
        },
        {
          "output_type": "stream",
          "text": [
            "195/225 [=========================>....] - ETA: 25s - loss: 0.6058 - acc: 0.6680"
          ],
          "name": "stdout"
        },
        {
          "output_type": "stream",
          "text": [
            "/usr/local/lib/python3.6/dist-packages/PIL/TiffImagePlugin.py:725: UserWarning: Possibly corrupt EXIF data.  Expecting to read 262146 bytes but only got 0. Skipping tag 2\n",
            "  \" Skipping tag %s\" % (size, len(data), tag))\n",
            "/usr/local/lib/python3.6/dist-packages/PIL/TiffImagePlugin.py:725: UserWarning: Possibly corrupt EXIF data.  Expecting to read 262151 bytes but only got 0. Skipping tag 56\n",
            "  \" Skipping tag %s\" % (size, len(data), tag))\n",
            "/usr/local/lib/python3.6/dist-packages/PIL/TiffImagePlugin.py:742: UserWarning: Corrupt EXIF data.  Expecting to read 12 bytes but only got 0. \n",
            "  warnings.warn(str(msg))\n"
          ],
          "name": "stderr"
        },
        {
          "output_type": "stream",
          "text": [
            "225/225 [==============================] - 215s 956ms/step - loss: 0.6019 - acc: 0.6718 - val_loss: 0.5941 - val_acc: 0.6756\n",
            "Epoch 2/100\n",
            "225/225 [==============================] - 206s 917ms/step - loss: 0.5650 - acc: 0.7051 - val_loss: 0.5613 - val_acc: 0.7020\n",
            "Epoch 3/100\n",
            "225/225 [==============================] - 204s 908ms/step - loss: 0.5351 - acc: 0.7331 - val_loss: 0.5014 - val_acc: 0.7484\n",
            "Epoch 4/100\n",
            "225/225 [==============================] - 204s 909ms/step - loss: 0.5036 - acc: 0.7501 - val_loss: 0.4852 - val_acc: 0.7716\n",
            "Epoch 5/100\n",
            "225/225 [==============================] - 203s 904ms/step - loss: 0.4833 - acc: 0.7674 - val_loss: 0.4725 - val_acc: 0.7704\n",
            "Epoch 6/100\n",
            "225/225 [==============================] - 204s 906ms/step - loss: 0.4668 - acc: 0.7771 - val_loss: 0.4597 - val_acc: 0.7788\n",
            "Epoch 7/100\n",
            "225/225 [==============================] - 203s 904ms/step - loss: 0.4429 - acc: 0.7953 - val_loss: 0.4502 - val_acc: 0.7784\n",
            "Epoch 8/100\n",
            "225/225 [==============================] - 204s 906ms/step - loss: 0.4281 - acc: 0.8030 - val_loss: 0.3992 - val_acc: 0.8124\n",
            "Epoch 9/100\n",
            "225/225 [==============================] - 204s 907ms/step - loss: 0.4102 - acc: 0.8127 - val_loss: 0.4407 - val_acc: 0.7892\n",
            "Epoch 10/100\n",
            "225/225 [==============================] - 205s 910ms/step - loss: 0.3956 - acc: 0.8213 - val_loss: 0.4011 - val_acc: 0.8140\n",
            "Epoch 11/100\n",
            "225/225 [==============================] - 205s 910ms/step - loss: 0.3769 - acc: 0.8269 - val_loss: 0.3767 - val_acc: 0.8244\n",
            "Epoch 12/100\n",
            "225/225 [==============================] - 205s 911ms/step - loss: 0.3635 - acc: 0.8366 - val_loss: 0.3614 - val_acc: 0.8320\n",
            "Epoch 13/100\n",
            "225/225 [==============================] - 205s 912ms/step - loss: 0.3442 - acc: 0.8467 - val_loss: 0.3523 - val_acc: 0.8452\n",
            "Epoch 14/100\n",
            "224/225 [============================>.] - ETA: 0s - loss: 0.3333 - acc: 0.8523Epoch 15/100\n",
            "225/225 [==============================] - 205s 912ms/step - loss: 0.3297 - acc: 0.8556 - val_loss: 0.3291 - val_acc: 0.8532\n",
            "Epoch 16/100\n",
            "225/225 [==============================] - 205s 910ms/step - loss: 0.3224 - acc: 0.8580 - val_loss: 0.3152 - val_acc: 0.8660\n",
            "Epoch 17/100\n",
            "225/225 [==============================] - 205s 911ms/step - loss: 0.3058 - acc: 0.8667 - val_loss: 0.3230 - val_acc: 0.8608\n",
            "Epoch 18/100\n",
            "225/225 [==============================] - 205s 913ms/step - loss: 0.3081 - acc: 0.8657 - val_loss: 0.3160 - val_acc: 0.8640\n",
            "Epoch 19/100\n",
            "225/225 [==============================] - 205s 910ms/step - loss: 0.3118 - acc: 0.8626 - val_loss: 0.3060 - val_acc: 0.8668\n",
            "Epoch 20/100\n",
            "225/225 [==============================] - 206s 915ms/step - loss: 0.2965 - acc: 0.8687 - val_loss: 0.3004 - val_acc: 0.8708\n",
            "Epoch 21/100\n",
            "225/225 [==============================] - 205s 910ms/step - loss: 0.2844 - acc: 0.8786 - val_loss: 0.2809 - val_acc: 0.8828\n",
            "Epoch 22/100\n",
            "225/225 [==============================] - 205s 912ms/step - loss: 0.2769 - acc: 0.8793 - val_loss: 0.2839 - val_acc: 0.8820\n",
            "Epoch 23/100\n",
            "225/225 [==============================] - 206s 915ms/step - loss: 0.2796 - acc: 0.8791 - val_loss: 0.2754 - val_acc: 0.8776\n",
            "Epoch 24/100\n",
            "225/225 [==============================] - 206s 915ms/step - loss: 0.2676 - acc: 0.8855 - val_loss: 0.3130 - val_acc: 0.8580\n",
            "Epoch 25/100\n",
            "225/225 [==============================] - 206s 915ms/step - loss: 0.2570 - acc: 0.8881 - val_loss: 0.2729 - val_acc: 0.8792\n",
            "Epoch 26/100\n",
            "225/225 [==============================] - 206s 913ms/step - loss: 0.2592 - acc: 0.8881 - val_loss: 0.2734 - val_acc: 0.8788\n",
            "Epoch 27/100\n",
            "225/225 [==============================] - 206s 914ms/step - loss: 0.2540 - acc: 0.8910 - val_loss: 0.2718 - val_acc: 0.8792\n",
            "Epoch 28/100\n",
            "225/225 [==============================] - 205s 913ms/step - loss: 0.2572 - acc: 0.8895 - val_loss: 0.2595 - val_acc: 0.8856\n",
            "Epoch 29/100\n",
            "225/225 [==============================] - 207s 919ms/step - loss: 0.2517 - acc: 0.8930 - val_loss: 0.2602 - val_acc: 0.8860\n",
            "Epoch 30/100\n",
            "225/225 [==============================] - 206s 914ms/step - loss: 0.2442 - acc: 0.8958 - val_loss: 0.2608 - val_acc: 0.8888\n",
            "Epoch 31/100\n",
            "225/225 [==============================] - 205s 910ms/step - loss: 0.2389 - acc: 0.8991 - val_loss: 0.2706 - val_acc: 0.8872\n",
            "Epoch 32/100\n",
            "225/225 [==============================] - 205s 912ms/step - loss: 0.2361 - acc: 0.9017 - val_loss: 0.2450 - val_acc: 0.8900\n",
            "Epoch 33/100\n",
            "225/225 [==============================] - 205s 911ms/step - loss: 0.2348 - acc: 0.8992 - val_loss: 0.2882 - val_acc: 0.8688\n",
            "Epoch 34/100\n",
            "225/225 [==============================] - 204s 909ms/step - loss: 0.2363 - acc: 0.8990 - val_loss: 0.2527 - val_acc: 0.8880\n",
            "Epoch 35/100\n",
            "225/225 [==============================] - 204s 908ms/step - loss: 0.2326 - acc: 0.9015 - val_loss: 0.2466 - val_acc: 0.8932\n",
            "Epoch 36/100\n",
            "225/225 [==============================] - 204s 908ms/step - loss: 0.2263 - acc: 0.9039 - val_loss: 0.2457 - val_acc: 0.8992\n",
            "Epoch 37/100\n",
            "225/225 [==============================] - 205s 911ms/step - loss: 0.2260 - acc: 0.9055 - val_loss: 0.2609 - val_acc: 0.8976\n",
            "Epoch 38/100\n",
            "225/225 [==============================] - 205s 913ms/step - loss: 0.2173 - acc: 0.9090 - val_loss: 0.2546 - val_acc: 0.8928\n",
            "Epoch 39/100\n",
            "225/225 [==============================] - 205s 911ms/step - loss: 0.2183 - acc: 0.9066 - val_loss: 0.2406 - val_acc: 0.9024\n",
            "Epoch 40/100\n",
            "225/225 [==============================] - 205s 912ms/step - loss: 0.2149 - acc: 0.9097 - val_loss: 0.2580 - val_acc: 0.8916\n",
            "Epoch 41/100\n",
            "225/225 [==============================] - 205s 913ms/step - loss: 0.2172 - acc: 0.9063 - val_loss: 0.2476 - val_acc: 0.8876\n",
            "Epoch 42/100\n",
            "225/225 [==============================] - 206s 915ms/step - loss: 0.2089 - acc: 0.9136 - val_loss: 0.2298 - val_acc: 0.9024\n",
            "Epoch 43/100\n",
            "225/225 [==============================] - 205s 912ms/step - loss: 0.2159 - acc: 0.9093 - val_loss: 0.2823 - val_acc: 0.8756\n",
            "Epoch 44/100\n",
            "225/225 [==============================] - 205s 913ms/step - loss: 0.2062 - acc: 0.9131 - val_loss: 0.2331 - val_acc: 0.9044\n",
            "Epoch 45/100\n",
            "225/225 [==============================] - 205s 910ms/step - loss: 0.2078 - acc: 0.9112 - val_loss: 0.2482 - val_acc: 0.8952\n",
            "Epoch 46/100\n",
            "225/225 [==============================] - 206s 914ms/step - loss: 0.2076 - acc: 0.9127 - val_loss: 0.2255 - val_acc: 0.9044\n",
            "Epoch 47/100\n",
            "225/225 [==============================] - 205s 913ms/step - loss: 0.2031 - acc: 0.9146 - val_loss: 0.2230 - val_acc: 0.8980\n",
            "Epoch 48/100\n",
            "225/225 [==============================] - 205s 911ms/step - loss: 0.1990 - acc: 0.9159 - val_loss: 0.2116 - val_acc: 0.9136\n",
            "Epoch 49/100\n",
            "225/225 [==============================] - 205s 912ms/step - loss: 0.2040 - acc: 0.9150 - val_loss: 0.2202 - val_acc: 0.9060\n",
            "Epoch 50/100\n",
            "225/225 [==============================] - 205s 913ms/step - loss: 0.1906 - acc: 0.9203 - val_loss: 0.2209 - val_acc: 0.9052\n",
            "Epoch 51/100\n",
            "225/225 [==============================] - 206s 914ms/step - loss: 0.1943 - acc: 0.9193 - val_loss: 0.2727 - val_acc: 0.8820\n",
            "Epoch 52/100\n",
            "225/225 [==============================] - 205s 913ms/step - loss: 0.1969 - acc: 0.9180 - val_loss: 0.2239 - val_acc: 0.9000\n",
            "Epoch 53/100\n",
            "225/225 [==============================] - 205s 913ms/step - loss: 0.1993 - acc: 0.9145 - val_loss: 0.2088 - val_acc: 0.9116\n",
            "Epoch 54/100\n",
            "225/225 [==============================] - 206s 914ms/step - loss: 0.1947 - acc: 0.9191 - val_loss: 0.2281 - val_acc: 0.9008\n",
            "Epoch 55/100\n",
            "225/225 [==============================] - 205s 911ms/step - loss: 0.1929 - acc: 0.9185 - val_loss: 0.2240 - val_acc: 0.9044\n",
            "Epoch 56/100\n",
            "225/225 [==============================] - 205s 911ms/step - loss: 0.1908 - acc: 0.9186 - val_loss: 0.2152 - val_acc: 0.9108\n",
            "Epoch 57/100\n",
            "225/225 [==============================] - 206s 914ms/step - loss: 0.1870 - acc: 0.9219 - val_loss: 0.2020 - val_acc: 0.9108\n",
            "Epoch 58/100\n",
            "225/225 [==============================] - 206s 916ms/step - loss: 0.1903 - acc: 0.9207 - val_loss: 0.2240 - val_acc: 0.9020\n",
            "Epoch 59/100\n",
            "225/225 [==============================] - 205s 909ms/step - loss: 0.1882 - acc: 0.9218 - val_loss: 0.2113 - val_acc: 0.9124\n",
            "Epoch 60/100\n",
            "225/225 [==============================] - 203s 902ms/step - loss: 0.1894 - acc: 0.9187 - val_loss: 0.2010 - val_acc: 0.9156\n",
            "Epoch 61/100\n",
            "225/225 [==============================] - 202s 897ms/step - loss: 0.1810 - acc: 0.9248 - val_loss: 0.2321 - val_acc: 0.9056\n",
            "Epoch 62/100\n",
            "225/225 [==============================] - 202s 897ms/step - loss: 0.1850 - acc: 0.9200 - val_loss: 0.2076 - val_acc: 0.9068\n",
            "Epoch 63/100\n",
            "225/225 [==============================] - 203s 904ms/step - loss: 0.1831 - acc: 0.9231 - val_loss: 0.2049 - val_acc: 0.9112\n",
            "Epoch 64/100\n",
            "225/225 [==============================] - 203s 904ms/step - loss: 0.1746 - acc: 0.9284 - val_loss: 0.2102 - val_acc: 0.9128\n",
            "Epoch 65/100\n",
            "225/225 [==============================] - 201s 894ms/step - loss: 0.1808 - acc: 0.9232 - val_loss: 0.1963 - val_acc: 0.9172\n",
            "Epoch 66/100\n",
            "225/225 [==============================] - 200s 888ms/step - loss: 0.1822 - acc: 0.9248 - val_loss: 0.2124 - val_acc: 0.9104\n",
            "Epoch 67/100\n",
            "225/225 [==============================] - 203s 902ms/step - loss: 0.1735 - acc: 0.9268 - val_loss: 0.2117 - val_acc: 0.9092\n",
            "Epoch 68/100\n",
            "225/225 [==============================] - 205s 913ms/step - loss: 0.1737 - acc: 0.9283 - val_loss: 0.2165 - val_acc: 0.9072\n",
            "Epoch 69/100\n",
            "225/225 [==============================] - 206s 913ms/step - loss: 0.1717 - acc: 0.9293 - val_loss: 0.2037 - val_acc: 0.9156\n",
            "Epoch 70/100\n",
            "225/225 [==============================] - 205s 913ms/step - loss: 0.1820 - acc: 0.9214 - val_loss: 0.2095 - val_acc: 0.9108\n",
            "Epoch 71/100\n",
            "225/225 [==============================] - 206s 917ms/step - loss: 0.1669 - acc: 0.9307 - val_loss: 0.2039 - val_acc: 0.9208\n",
            "Epoch 72/100\n",
            "225/225 [==============================] - 206s 916ms/step - loss: 0.1672 - acc: 0.9318 - val_loss: 0.1844 - val_acc: 0.9304\n",
            "Epoch 73/100\n",
            "225/225 [==============================] - 206s 915ms/step - loss: 0.1782 - acc: 0.9254 - val_loss: 0.1966 - val_acc: 0.9200\n",
            "Epoch 74/100\n",
            "225/225 [==============================] - 202s 899ms/step - loss: 0.1648 - acc: 0.9311 - val_loss: 0.1980 - val_acc: 0.9196\n",
            "Epoch 75/100\n",
            "225/225 [==============================] - 201s 893ms/step - loss: 0.1627 - acc: 0.9324 - val_loss: 0.1911 - val_acc: 0.9192\n",
            "Epoch 76/100\n",
            "225/225 [==============================] - 202s 896ms/step - loss: 0.1674 - acc: 0.9307 - val_loss: 0.1861 - val_acc: 0.9260\n",
            "Epoch 77/100\n",
            "225/225 [==============================] - 199s 886ms/step - loss: 0.1710 - acc: 0.9290 - val_loss: 0.1995 - val_acc: 0.9160\n",
            "Epoch 78/100\n",
            "225/225 [==============================] - 200s 888ms/step - loss: 0.1673 - acc: 0.9301 - val_loss: 0.2081 - val_acc: 0.9212\n",
            "Epoch 79/100\n",
            "225/225 [==============================] - 199s 886ms/step - loss: 0.1682 - acc: 0.9289 - val_loss: 0.2095 - val_acc: 0.9160\n",
            "Epoch 80/100\n",
            "225/225 [==============================] - 199s 886ms/step - loss: 0.1595 - acc: 0.9330 - val_loss: 0.1909 - val_acc: 0.9168\n",
            "Epoch 81/100\n",
            "225/225 [==============================] - 200s 888ms/step - loss: 0.1617 - acc: 0.9324 - val_loss: 0.1859 - val_acc: 0.9272\n",
            "Epoch 82/100\n",
            "225/225 [==============================] - 199s 885ms/step - loss: 0.1641 - acc: 0.9321 - val_loss: 0.1952 - val_acc: 0.9188\n",
            "Epoch 83/100\n",
            "225/225 [==============================] - 201s 891ms/step - loss: 0.1622 - acc: 0.9334 - val_loss: 0.1792 - val_acc: 0.9260\n",
            "Epoch 84/100\n",
            "225/225 [==============================] - 199s 886ms/step - loss: 0.1649 - acc: 0.9321 - val_loss: 0.2088 - val_acc: 0.9148\n",
            "Epoch 85/100\n",
            "225/225 [==============================] - 199s 884ms/step - loss: 0.1592 - acc: 0.9336 - val_loss: 0.1879 - val_acc: 0.9196\n",
            "Epoch 86/100\n",
            "225/225 [==============================] - 199s 887ms/step - loss: 0.1648 - acc: 0.9311 - val_loss: 0.2030 - val_acc: 0.9184\n",
            "Epoch 87/100\n",
            "225/225 [==============================] - 197s 875ms/step - loss: 0.1582 - acc: 0.9335 - val_loss: 0.1960 - val_acc: 0.9200\n",
            "Epoch 88/100\n",
            "225/225 [==============================] - 196s 873ms/step - loss: 0.1575 - acc: 0.9348 - val_loss: 0.1953 - val_acc: 0.9120\n",
            "Epoch 89/100\n",
            "225/225 [==============================] - 198s 879ms/step - loss: 0.1551 - acc: 0.9347 - val_loss: 0.1949 - val_acc: 0.9140\n",
            "Epoch 90/100\n",
            "225/225 [==============================] - 197s 876ms/step - loss: 0.1574 - acc: 0.9348 - val_loss: 0.1734 - val_acc: 0.9220\n",
            "Epoch 91/100\n",
            "225/225 [==============================] - 201s 895ms/step - loss: 0.1581 - acc: 0.9356 - val_loss: 0.1814 - val_acc: 0.9216\n",
            "Epoch 92/100\n",
            "225/225 [==============================] - 199s 883ms/step - loss: 0.1523 - acc: 0.9376 - val_loss: 0.1696 - val_acc: 0.9224\n",
            "Epoch 93/100\n",
            "225/225 [==============================] - 200s 890ms/step - loss: 0.1557 - acc: 0.9352 - val_loss: 0.1900 - val_acc: 0.9192\n",
            "Epoch 94/100\n",
            "225/225 [==============================] - 200s 891ms/step - loss: 0.1553 - acc: 0.9377 - val_loss: 0.1926 - val_acc: 0.9156\n",
            "Epoch 95/100\n",
            "225/225 [==============================] - 200s 889ms/step - loss: 0.1517 - acc: 0.9367 - val_loss: 0.1922 - val_acc: 0.9240\n",
            "Epoch 96/100\n",
            "225/225 [==============================] - 200s 887ms/step - loss: 0.1522 - acc: 0.9365 - val_loss: 0.1719 - val_acc: 0.9228\n",
            "Epoch 97/100\n",
            "225/225 [==============================] - 199s 886ms/step - loss: 0.1501 - acc: 0.9393 - val_loss: 0.1769 - val_acc: 0.9264\n",
            "Epoch 98/100\n",
            "225/225 [==============================] - 200s 887ms/step - loss: 0.1518 - acc: 0.9367 - val_loss: 0.2017 - val_acc: 0.9172\n",
            "Epoch 99/100\n",
            "225/225 [==============================] - 199s 886ms/step - loss: 0.1508 - acc: 0.9361 - val_loss: 0.1791 - val_acc: 0.9252\n",
            "Epoch 100/100\n",
            "225/225 [==============================] - 200s 891ms/step - loss: 0.1544 - acc: 0.9370 - val_loss: 0.1722 - val_acc: 0.9292\n"
          ],
          "name": "stdout"
        }
      ]
    },
    {
      "cell_type": "code",
      "metadata": {
        "id": "MWZrJN4-65RC",
        "colab_type": "code",
        "colab": {
          "base_uri": "https://localhost:8080/",
          "height": 564
        },
        "outputId": "2cc1e3d5-1d85-4aab-9789-701c363e1d67"
      },
      "source": [
        "# PLOT LOSS AND ACCURACY\n",
        "%matplotlib inline\n",
        "\n",
        "import matplotlib.image  as mpimg\n",
        "import matplotlib.pyplot as plt\n",
        "\n",
        "#-----------------------------------------------------------\n",
        "# Retrieve a list of list results on training and test data\n",
        "# sets for each training epoch\n",
        "#-----------------------------------------------------------\n",
        "acc=history.history['acc']\n",
        "val_acc=history.history['val_acc']\n",
        "loss=history.history['loss']\n",
        "val_loss=history.history['val_loss']\n",
        "\n",
        "epochs=range(len(acc)) # Get number of epochs\n",
        "\n",
        "#------------------------------------------------\n",
        "# Plot training and validation accuracy per epoch\n",
        "#------------------------------------------------\n",
        "plt.plot(epochs, acc, 'r', \"Training Accuracy\")\n",
        "plt.plot(epochs, val_acc, 'b', \"Validation Accuracy\")\n",
        "plt.title('Training and validation accuracy')\n",
        "plt.figure()\n",
        "\n",
        "#------------------------------------------------\n",
        "# Plot training and validation loss per epoch\n",
        "#------------------------------------------------\n",
        "plt.plot(epochs, loss, 'r', \"Training Loss\")\n",
        "plt.plot(epochs, val_loss, 'b', \"Validation Loss\")\n",
        "\n",
        "\n",
        "plt.title('Training and validation loss')\n",
        "\n",
        "# Desired output. Charts with training and validation metrics. No crash :)"
      ],
      "execution_count": 25,
      "outputs": [
        {
          "output_type": "execute_result",
          "data": {
            "text/plain": [
              "Text(0.5, 1.0, 'Training and validation loss')"
            ]
          },
          "metadata": {
            "tags": []
          },
          "execution_count": 25
        },
        {
          "output_type": "display_data",
          "data": {
            "image/png": "[encoded data removed]",
            "text/plain": [
              "<Figure size 432x288 with 1 Axes>"
            ]
          },
          "metadata": {
            "tags": []
          }
        },
        {
          "output_type": "display_data",
          "data": {
            "image/png": "[encoded data removed]",
            "text/plain": [
              "<Figure size 432x288 with 1 Axes>"
            ]
          },
          "metadata": {
            "tags": []
          }
        }
      ]
    },
    {
      "cell_type": "code",
      "metadata": {
        "id": "LqL6FYUrtXpf",
        "colab_type": "code",
        "colab": {}
      },
      "source": [
        "# Here's a codeblock just for fun. You should be able to upload an image here \n",
        "# and have it classified without crashing\n",
        "\n",
        "import numpy as np\n",
        "from google.colab import files\n",
        "from keras.preprocessing import image\n",
        "\n",
        "uploaded = files.upload()\n",
        "\n",
        "for fn in uploaded.keys():\n",
        " \n",
        "  # predicting images\n",
        "  path = '/content/' + fn\n",
        "  img = image.load_img(path, target_size=(# YOUR CODE HERE))\n",
        "  x = image.img_to_array(img)\n",
        "  x = np.expand_dims(x, axis=0)\n",
        "\n",
        "  images = np.vstack([x])\n",
        "  classes = model.predict(images, batch_size=10)\n",
        "  print(classes[0])\n",
        "  if classes[0]>0.5:\n",
        "    print(fn + \" is a dog\")\n",
        "  else:\n",
        "    print(fn + \" is a cat\")"
      ],
      "execution_count": 0,
      "outputs": []
    }
  ]
}