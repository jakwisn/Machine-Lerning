{
 "cells": [
  {
   "cell_type": "code",
   "execution_count": 3,
   "metadata": {
    "colab": {},
    "colab_type": "code",
    "id": "wYtuKeK0dImp"
   },
   "outputs": [],
   "source": [
    "import csv\n",
    "import numpy as np\n",
    "import tensorflow as tf\n",
    "import pandas as pd\n",
    "from tensorflow.keras.preprocessing.image import ImageDataGenerator"
   ]
  },
  {
   "cell_type": "markdown",
   "metadata": {
    "colab_type": "text",
    "id": "EmMyh9_mkDHF"
   },
   "source": [
    "The data for this exercise is available at: https://www.kaggle.com/datamunge/sign-language-mnist/home\n",
    "\n",
    "Sign up and download to find 2 CSV files: sign_mnist_test.csv and sign_mnist_train.csv -- You will upload both of them using this button before you can continue.\n"
   ]
  },
  {
   "cell_type": "code",
   "execution_count": 7,
   "metadata": {},
   "outputs": [
    {
     "data": {
      "text/html": [
       "<div>\n",
       "<style scoped>\n",
       "    .dataframe tbody tr th:only-of-type {\n",
       "        vertical-align: middle;\n",
       "    }\n",
       "\n",
       "    .dataframe tbody tr th {\n",
       "        vertical-align: top;\n",
       "    }\n",
       "\n",
       "    .dataframe thead th {\n",
       "        text-align: right;\n",
       "    }\n",
       "</style>\n",
       "<table border=\"1\" class=\"dataframe\">\n",
       "  <thead>\n",
       "    <tr style=\"text-align: right;\">\n",
       "      <th></th>\n",
       "      <th>0</th>\n",
       "      <th>1</th>\n",
       "      <th>2</th>\n",
       "      <th>3</th>\n",
       "      <th>4</th>\n",
       "      <th>5</th>\n",
       "      <th>6</th>\n",
       "      <th>7</th>\n",
       "      <th>8</th>\n",
       "      <th>9</th>\n",
       "      <th>...</th>\n",
       "      <th>775</th>\n",
       "      <th>776</th>\n",
       "      <th>777</th>\n",
       "      <th>778</th>\n",
       "      <th>779</th>\n",
       "      <th>780</th>\n",
       "      <th>781</th>\n",
       "      <th>782</th>\n",
       "      <th>783</th>\n",
       "      <th>784</th>\n",
       "    </tr>\n",
       "  </thead>\n",
       "  <tbody>\n",
       "    <tr>\n",
       "      <th>0</th>\n",
       "      <td>label</td>\n",
       "      <td>pixel1</td>\n",
       "      <td>pixel2</td>\n",
       "      <td>pixel3</td>\n",
       "      <td>pixel4</td>\n",
       "      <td>pixel5</td>\n",
       "      <td>pixel6</td>\n",
       "      <td>pixel7</td>\n",
       "      <td>pixel8</td>\n",
       "      <td>pixel9</td>\n",
       "      <td>...</td>\n",
       "      <td>pixel775</td>\n",
       "      <td>pixel776</td>\n",
       "      <td>pixel777</td>\n",
       "      <td>pixel778</td>\n",
       "      <td>pixel779</td>\n",
       "      <td>pixel780</td>\n",
       "      <td>pixel781</td>\n",
       "      <td>pixel782</td>\n",
       "      <td>pixel783</td>\n",
       "      <td>pixel784</td>\n",
       "    </tr>\n",
       "    <tr>\n",
       "      <th>1</th>\n",
       "      <td>3</td>\n",
       "      <td>107</td>\n",
       "      <td>118</td>\n",
       "      <td>127</td>\n",
       "      <td>134</td>\n",
       "      <td>139</td>\n",
       "      <td>143</td>\n",
       "      <td>146</td>\n",
       "      <td>150</td>\n",
       "      <td>153</td>\n",
       "      <td>...</td>\n",
       "      <td>207</td>\n",
       "      <td>207</td>\n",
       "      <td>207</td>\n",
       "      <td>207</td>\n",
       "      <td>206</td>\n",
       "      <td>206</td>\n",
       "      <td>206</td>\n",
       "      <td>204</td>\n",
       "      <td>203</td>\n",
       "      <td>202</td>\n",
       "    </tr>\n",
       "    <tr>\n",
       "      <th>2</th>\n",
       "      <td>6</td>\n",
       "      <td>155</td>\n",
       "      <td>157</td>\n",
       "      <td>156</td>\n",
       "      <td>156</td>\n",
       "      <td>156</td>\n",
       "      <td>157</td>\n",
       "      <td>156</td>\n",
       "      <td>158</td>\n",
       "      <td>158</td>\n",
       "      <td>...</td>\n",
       "      <td>69</td>\n",
       "      <td>149</td>\n",
       "      <td>128</td>\n",
       "      <td>87</td>\n",
       "      <td>94</td>\n",
       "      <td>163</td>\n",
       "      <td>175</td>\n",
       "      <td>103</td>\n",
       "      <td>135</td>\n",
       "      <td>149</td>\n",
       "    </tr>\n",
       "    <tr>\n",
       "      <th>3</th>\n",
       "      <td>2</td>\n",
       "      <td>187</td>\n",
       "      <td>188</td>\n",
       "      <td>188</td>\n",
       "      <td>187</td>\n",
       "      <td>187</td>\n",
       "      <td>186</td>\n",
       "      <td>187</td>\n",
       "      <td>188</td>\n",
       "      <td>187</td>\n",
       "      <td>...</td>\n",
       "      <td>202</td>\n",
       "      <td>201</td>\n",
       "      <td>200</td>\n",
       "      <td>199</td>\n",
       "      <td>198</td>\n",
       "      <td>199</td>\n",
       "      <td>198</td>\n",
       "      <td>195</td>\n",
       "      <td>194</td>\n",
       "      <td>195</td>\n",
       "    </tr>\n",
       "    <tr>\n",
       "      <th>4</th>\n",
       "      <td>2</td>\n",
       "      <td>211</td>\n",
       "      <td>211</td>\n",
       "      <td>212</td>\n",
       "      <td>212</td>\n",
       "      <td>211</td>\n",
       "      <td>210</td>\n",
       "      <td>211</td>\n",
       "      <td>210</td>\n",
       "      <td>210</td>\n",
       "      <td>...</td>\n",
       "      <td>235</td>\n",
       "      <td>234</td>\n",
       "      <td>233</td>\n",
       "      <td>231</td>\n",
       "      <td>230</td>\n",
       "      <td>226</td>\n",
       "      <td>225</td>\n",
       "      <td>222</td>\n",
       "      <td>229</td>\n",
       "      <td>163</td>\n",
       "    </tr>\n",
       "  </tbody>\n",
       "</table>\n",
       "<p>5 rows × 785 columns</p>\n",
       "</div>"
      ],
      "text/plain": [
       "     0       1       2       3       4       5       6       7       8    \\\n",
       "0  label  pixel1  pixel2  pixel3  pixel4  pixel5  pixel6  pixel7  pixel8   \n",
       "1      3     107     118     127     134     139     143     146     150   \n",
       "2      6     155     157     156     156     156     157     156     158   \n",
       "3      2     187     188     188     187     187     186     187     188   \n",
       "4      2     211     211     212     212     211     210     211     210   \n",
       "\n",
       "      9      ...          775       776       777       778       779  \\\n",
       "0  pixel9    ...     pixel775  pixel776  pixel777  pixel778  pixel779   \n",
       "1     153    ...          207       207       207       207       206   \n",
       "2     158    ...           69       149       128        87        94   \n",
       "3     187    ...          202       201       200       199       198   \n",
       "4     210    ...          235       234       233       231       230   \n",
       "\n",
       "        780       781       782       783       784  \n",
       "0  pixel780  pixel781  pixel782  pixel783  pixel784  \n",
       "1       206       206       204       203       202  \n",
       "2       163       175       103       135       149  \n",
       "3       199       198       195       194       195  \n",
       "4       226       225       222       229       163  \n",
       "\n",
       "[5 rows x 785 columns]"
      ]
     },
     "execution_count": 7,
     "metadata": {},
     "output_type": "execute_result"
    }
   ],
   "source": [
    "Data1 = pd.read_csv('/home/kuba/Downloads/tf/sign-language-mnist/sign_mnist_train.csv', header = None)\n",
    "Data2 = pd.read_csv('/home/kuba/Downloads/tf/sign-language-mnist/sign_mnist_test.csv', header = None)\n",
    "Data1.head()"
   ]
  },
  {
   "cell_type": "code",
   "execution_count": 34,
   "metadata": {
    "colab": {},
    "colab_type": "code",
    "id": "4kxw-_rmcnVu"
   },
   "outputs": [
    {
     "name": "stdout",
     "output_type": "stream",
     "text": [
      "(27455, 28, 28)\n",
      "(27455,)\n",
      "(7172, 28, 28)\n",
      "(7172,)\n"
     ]
    }
   ],
   "source": [
    "def get_data(data):\n",
    "    # You will need to write code that will read the file passed\n",
    "    # into this function. The first line contains the column headers\n",
    "    # so you should ignore it\n",
    "    # Each successive line contians 785 comma separated values between 0 and 255\n",
    "    # The first value is the label\n",
    "    # The rest are the pixel values for that picture\n",
    "    # The function will return 2 np.array types. One with all the labels\n",
    "    # One with all the images\n",
    "    #\n",
    "    # Tips: \n",
    "    # If you read a full line (as 'row') then row[0] has the label\n",
    "    # and row[1:785] has the 784 pixel values\n",
    "    # Take a look at np.array_split to turn the 784 pixels into 28x28\n",
    "    # You are reading in strings, but need the values to be floats\n",
    "    # Check out np.array().astype for a conversion\n",
    "    \n",
    "    # Your code starts here\n",
    "    data = np.array(data)\n",
    "    labels = np.array(data[1:,0], dtype = int)\n",
    "\n",
    "    images = np.array(data[1:,1:], dtype = int)\n",
    "    images = images.reshape(labels.size, 28,28)\n",
    "    # Your code ends here\n",
    "    return images, labels\n",
    "\n",
    "\n",
    "training_images, training_labels = get_data(Data1)\n",
    "testing_images, testing_labels = get_data(Data2)\n",
    "\n",
    "# Keep these\n",
    "print(training_images.shape)\n",
    "print(training_labels.shape)\n",
    "print(testing_images.shape)\n",
    "print(testing_labels.shape)\n",
    "\n",
    "# Their output should be:\n",
    "# (27455, 28, 28)\n",
    "# (27455,)\n",
    "# (7172, 28, 28)\n",
    "# (7172,)"
   ]
  },
  {
   "cell_type": "code",
   "execution_count": 35,
   "metadata": {
    "colab": {},
    "colab_type": "code",
    "id": "awoqRpyZdQkD"
   },
   "outputs": [
    {
     "name": "stdout",
     "output_type": "stream",
     "text": [
      "(27455, 28, 28, 1)\n",
      "(7172, 28, 28, 1)\n"
     ]
    }
   ],
   "source": [
    "# In this section you will have to add another dimension to the data\n",
    "# So, for example, if your array is (10000, 28, 28)\n",
    "# You will need to make it (10000, 28, 28, 1)\n",
    "# Hint: np.expand_dims\n",
    "\n",
    "training_images = np.expand_dims(training_images, axis = 3)\n",
    "testing_images = np.expand_dims(testing_images, axis = 3)\n",
    "\n",
    "# Create an ImageDataGenerator and do Image Augmentation\n",
    "train_datagen = ImageDataGenerator(   rescale = 1.0/255,\n",
    "                                      rotation_range=40,\n",
    "                                      width_shift_range=0.2,\n",
    "                                      height_shift_range=0.2,\n",
    "                                      shear_range=0.2,\n",
    "                                      zoom_range=0.2,\n",
    "                                      horizontal_flip=True,\n",
    "                                      fill_mode='nearest'\n",
    "    )\n",
    "\n",
    "\n",
    "\n",
    "\n",
    "validation_datagen = ImageDataGenerator( rescale = 1.0/255)\n",
    "\n",
    "\n",
    "# Keep These\n",
    "print(training_images.shape)\n",
    "print(testing_images.shape)\n",
    "    \n",
    "# Their output should be:\n",
    "# (27455, 28, 28, 1)\n",
    "# (7172, 28, 28, 1)"
   ]
  },
  {
   "cell_type": "code",
   "execution_count": 24,
   "metadata": {},
   "outputs": [
    {
     "data": {
      "text/plain": [
       "array([ 0,  1,  2,  3,  4,  5,  6,  7,  8, 10, 11, 12, 13, 14, 15, 16, 17,\n",
       "       18, 19, 20, 21, 22, 23, 24])"
      ]
     },
     "execution_count": 24,
     "metadata": {},
     "output_type": "execute_result"
    }
   ],
   "source": [
    "np.unique(testing_labels)"
   ]
  },
  {
   "cell_type": "code",
   "execution_count": 40,
   "metadata": {
    "colab": {},
    "colab_type": "code",
    "id": "Rmb7S32cgRqS"
   },
   "outputs": [
    {
     "name": "stdout",
     "output_type": "stream",
     "text": [
      "Epoch 1/15\n",
      "858/857 [==============================] - 14s 16ms/step - loss: 2.8528 - acc: 0.1345 - val_loss: 1.9123 - val_acc: 0.4151\n",
      "Epoch 2/15\n",
      "858/857 [==============================] - 13s 15ms/step - loss: 2.2195 - acc: 0.3027 - val_loss: 1.3674 - val_acc: 0.5484\n",
      "Epoch 3/15\n",
      "858/857 [==============================] - 13s 15ms/step - loss: 1.8631 - acc: 0.4047 - val_loss: 1.0519 - val_acc: 0.6684\n",
      "Epoch 4/15\n",
      "858/857 [==============================] - 13s 15ms/step - loss: 1.6259 - acc: 0.4758 - val_loss: 0.9822 - val_acc: 0.6577\n",
      "Epoch 5/15\n",
      "858/857 [==============================] - 13s 16ms/step - loss: 1.4690 - acc: 0.5265 - val_loss: 0.8409 - val_acc: 0.7073\n",
      "Epoch 6/15\n",
      "858/857 [==============================] - 14s 16ms/step - loss: 1.3404 - acc: 0.5646 - val_loss: 0.7499 - val_acc: 0.7366\n",
      "Epoch 7/15\n",
      "858/857 [==============================] - 14s 16ms/step - loss: 1.2524 - acc: 0.5894 - val_loss: 0.5643 - val_acc: 0.8116\n",
      "Epoch 8/15\n",
      "858/857 [==============================] - 14s 16ms/step - loss: 1.1776 - acc: 0.6150 - val_loss: 0.5755 - val_acc: 0.8076\n",
      "Epoch 9/15\n",
      "858/857 [==============================] - 14s 16ms/step - loss: 1.0974 - acc: 0.6363 - val_loss: 0.5430 - val_acc: 0.8144\n",
      "Epoch 10/15\n",
      "858/857 [==============================] - 14s 16ms/step - loss: 1.0520 - acc: 0.6485 - val_loss: 0.4917 - val_acc: 0.8228\n",
      "Epoch 11/15\n",
      "858/857 [==============================] - 14s 16ms/step - loss: 0.9971 - acc: 0.6733 - val_loss: 0.4221 - val_acc: 0.8484\n",
      "Epoch 12/15\n",
      "858/857 [==============================] - 14s 16ms/step - loss: 0.9552 - acc: 0.6828 - val_loss: 0.4588 - val_acc: 0.8305\n",
      "Epoch 13/15\n",
      "858/857 [==============================] - 14s 16ms/step - loss: 0.9119 - acc: 0.6951 - val_loss: 0.3534 - val_acc: 0.8779\n",
      "Epoch 14/15\n",
      "858/857 [==============================] - 14s 16ms/step - loss: 0.8826 - acc: 0.7053 - val_loss: 0.3410 - val_acc: 0.8865\n",
      "Epoch 15/15\n",
      "858/857 [==============================] - 14s 17ms/step - loss: 0.8375 - acc: 0.7199 - val_loss: 0.3756 - val_acc: 0.8865\n",
      "7172/7172 [==============================] - 1s 120us/sample - loss: 234.5497 - acc: 0.5712\n"
     ]
    },
    {
     "data": {
      "text/plain": [
       "[6.92426086682151, 0.56609035]"
      ]
     },
     "execution_count": 40,
     "metadata": {},
     "output_type": "execute_result"
    }
   ],
   "source": [
    "# Define the model\n",
    "# Use no more than 2 Conv2D and 2 MaxPooling2D\n",
    "model = tf.keras.models.Sequential([\n",
    "    # Your Code Here\n",
    "        tf.keras.layers.Conv2D(32, (4,4), input_shape = (28,28,1), activation = 'relu'),\n",
    "        tf.keras.layers.MaxPooling2D(2,2),\n",
    "        tf.keras.layers.Conv2D(32, (3,3), activation = 'relu'),\n",
    "        tf.keras.layers.MaxPooling2D(2,2),\n",
    "        tf.keras.layers.Flatten(), \n",
    "        tf.keras.layers.Dropout(0.3), \n",
    "        tf.keras.layers.Dense(256, activation = 'relu'),\n",
    "        tf.keras.layers.Dense(25, activation = 'softmax')\n",
    "    ])\n",
    "\n",
    "# Compile Model. \n",
    "model.compile(loss = 'sparse_categorical_crossentropy',\n",
    "              optimizer = 'adam',\n",
    "              metrics = ['acc'])\n",
    "\n",
    "# Train the Model\n",
    "history = model.fit_generator(train_datagen.flow(training_images, training_labels, batch_size=32),\n",
    "                              steps_per_epoch=len(training_images) / 32,\n",
    "                              epochs=15,\n",
    "                              validation_data=validation_datagen.flow(testing_images, testing_labels, batch_size=32),\n",
    "                              validation_steps=len(testing_images) / 32)\n",
    "\n",
    "model.evaluate(testing_images, testing_labels)\n",
    "    \n",
    "# The output from model.evaluate should be close to:\n",
    "[6.92426086682151, 0.56609035]\n"
   ]
  },
  {
   "cell_type": "code",
   "execution_count": 46,
   "metadata": {
    "colab": {},
    "colab_type": "code",
    "id": "_Q3Zpr46dsij"
   },
   "outputs": [
    {
     "data": {
      "image/png": "[encoded data removed]",
      "text/plain": [
       "<Figure size 432x288 with 1 Axes>"
      ]
     },
     "metadata": {
      "needs_background": "light"
     },
     "output_type": "display_data"
    },
    {
     "data": {
      "image/png": "[encoded data removed]",
      "text/plain": [
       "<Figure size 432x288 with 1 Axes>"
      ]
     },
     "metadata": {
      "needs_background": "light"
     },
     "output_type": "display_data"
    }
   ],
   "source": [
    "# Plot the chart for accuracy and loss on both training and validation\n",
    "\n",
    "import matplotlib.pyplot as plt\n",
    "acc = history.history['acc']\n",
    "val_acc = history.history['val_acc']\n",
    "loss = history.history['loss']\n",
    "val_loss = history.history['val_loss']\n",
    "\n",
    "epochs = range(len(acc))\n",
    "\n",
    "plt.plot(epochs, acc, 'ro', label='Training accuracy')\n",
    "plt.plot(epochs, val_acc, 'b', label='Validation accuracy')\n",
    "plt.title('Training and validation accuracy')\n",
    "plt.legend()\n",
    "plt.figure()\n",
    "\n",
    "plt.plot(epochs, loss, 'ro', label='Training Loss')\n",
    "plt.plot(epochs, val_loss, 'b', label='Validation Loss')\n",
    "plt.title('Training and validation loss')\n",
    "plt.legend()\n",
    "\n",
    "plt.show()"
   ]
  }
 ],
 "metadata": {
  "colab": {
   "name": "Exercise 8 - Question.ipynb",
   "provenance": [],
   "version": "0.3.2"
  },
  "kernelspec": {
   "display_name": "venv",
   "language": "python",
   "name": "venv"
  },
  "language_info": {
   "codemirror_mode": {
    "name": "ipython",
    "version": 3
   },
   "file_extension": ".py",
   "mimetype": "text/x-python",
   "name": "python",
   "nbconvert_exporter": "python",
   "pygments_lexer": "ipython3",
   "version": "3.7.1"
  }
 },
 "nbformat": 4,
 "nbformat_minor": 1
}
